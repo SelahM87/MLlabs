{
  "cells": [
    {
      "cell_type": "markdown",
      "metadata": {
        "id": "IU2Oe2lgy3XV"
      },
      "source": [
        "# Web Scraping\n",
        "\n",
        "Last time, we looked at REST API's as a source of data. You can get lots of very high quality data this way.\n",
        "\n",
        "Some data is available online, but not through an API. When this is the case, some times you can simply copy and paste the data into a .csv file and go on with your life. But if there are many records to parse and combine into a dataset, that might be impossible. Can we automate the collection of data from online sources?\n",
        "\n",
        "This is called web scraping. Broadly speaking: Web scraping is legal, but what you plan to do with the results of your scraping might not be. In general, most sites do not want you to scrape them at this point, but there is not really a way to stop you if you are sufficiently motivated. Be careful to use server resources respectfully (not too many requests per unit time), think seriously about privacy concerns, and be careful who you share your work with."
      ]
    },
    {
      "cell_type": "markdown",
      "metadata": {
        "id": "ui3HNFVXy3XX"
      },
      "source": [
        "We'll be scraping data about used cars in Charlottesville from Craigslist. This will give us a chance to put those wrangling, EDA, and visualization skills to work.\n",
        "\n",
        "We'll use the `requests` package, as we did with API's, but will be getting the kinds of web pages you see everyday. Again, we'll use a header with a user-agent that masks our true identity so that we're not rejected by the server. This particular url points to the car listings for Craigslist in Charlottesville."
      ]
    },
    {
      "cell_type": "markdown",
      "metadata": {
        "id": "a8yVtKAxy3XY"
      },
      "source": [
        "## 1. Pick something else on Craigslist: Musical instruments, roommates, antiques, etc. Look at the search page and its source code. Record which fields/data you would like to gather, and what kinds of EDA you'd do with it. I look at used cars below."
      ]
    },
    {
      "cell_type": "code",
      "execution_count": 107,
      "metadata": {
        "id": "bT63yifry3XX"
      },
      "outputs": [],
      "source": [
        "import numpy as np\n",
        "import matplotlib.pyplot as plt\n",
        "import plotly.express as px\n",
        "import pandas as pd\n",
        "import seaborn as sns\n",
        "\n",
        "import requests # Page requests\n",
        "\n",
        "header = {'User-Agent': 'Mozilla/5.0 (Windows NT 10.0; Win64; x64; rv:124.0) Gecko/20100101 Firefox/124.0'}\n",
        "url = 'https://charlottesville.craigslist.org/search/fua#search=1~gallery~0~86'\n",
        "raw = requests.get(url,headers=header) # Get page"
      ]
    },
    {
      "cell_type": "markdown",
      "metadata": {},
      "source": []
    },
    {
      "cell_type": "markdown",
      "metadata": {
        "id": "GS1XkRlXy3XX"
      },
      "source": [
        "Now that we have that particular page available locally, we want to **parse** it and get results from it. To do that, we can use a package called `beautifulSoup` or `bs4`.\n",
        "\n",
        "What does `beautifulSoup` do for us? Let's go to the web page of interest. You probably see something like this:\n",
        "\n",
        "![Listings](craigslist.png \"Craigslist\")\n",
        "\n",
        "But if you \"view page source\" -- which is CTRL+U -- in Chrome, you see what the computer sees:\n",
        "\n",
        "![Listings](craigslist_source.png \"Craigslist\")\n",
        "\n",
        "Since your web browser needs lots of instructions about how to render the text, pictures, and other content on your web page, there are a lot of clues about where the data live and how to extricate them from a page. These clues are called **tags**. If you wander the source for the search page on cars, you see a particular `class = \"cl-static-search-result\"` term appear attached to each listing:\n",
        "\n",
        "![Listings](listing.png \"Craigslist\")\n",
        "\n",
        "This structure can be exploited to search the page for information. This kind of detective work -- looking at the page source, finding the interesting tages, and then searching the page with `beautifulSoup` -- is the basic job of web scraping."
      ]
    },
    {
      "cell_type": "markdown",
      "metadata": {
        "id": "NiO-E2wuy3XZ"
      },
      "source": [
        "## 2. Get your search results of interest and extract data from them, using code similar to what's below."
      ]
    },
    {
      "cell_type": "markdown",
      "metadata": {
        "id": "fEO2NpZ8y3XY"
      },
      "source": [
        "The following code chunk takes the raw content from `requests` and turns it into a beautifulSoup object, which can search the page and return results for us:"
      ]
    },
    {
      "cell_type": "code",
      "execution_count": 86,
      "metadata": {
        "id": "lllobrYIy3XY"
      },
      "outputs": [],
      "source": [
        "from bs4 import BeautifulSoup as soup # HTML parser\n",
        "bsObj = soup(raw.content,'html.parser') # Parse the html\n",
        "listings = bsObj.find_all(class_=\"cl-static-search-result\") # Find all listings\n",
        "\n",
        "furniture = ['couch', 'chair', 'lamp', 'bedframe', 'nightstand', 'desk', 'drawers', \n",
        "             'table', 'bookshelf', 'shelf', 'ottoman', 'stool', 'mirror', 'rack', \n",
        "             'sofa', 'rug', 'mattress', 'cabinets']"
      ]
    },
    {
      "cell_type": "markdown",
      "metadata": {
        "id": "ymO8JbMmy3XY"
      },
      "source": [
        "Why is the argument `class_` and not just `class`? The word `class` is a reserved keyword for Python, and cannot be used by anyone else, similar to `True` and `False`. But since we want the `class = \"cl-static-search-result\"` terms, we need to use the `class_` argument to the `.find_all` method.\n",
        "\n",
        "The `.find_all` function dredges the entire page and finds all the instances of `class = \"cl-static-search-result\"`, resulting in a list of entries. We can then parse the entries.\n",
        "\n",
        "For each listing, we'll use the `.find` method to search within the listing record for specific information. To get the information we want, we can then use `.get_text()`.\n",
        "\n",
        "In the code below, two more things happen.\n",
        "\n",
        "First, I would like to get the brand of the car from the post title, if possible. To do this, I split the title into words using `title.split()`, and then I use a list comprehension to look over every word in the title and check whether it appears in the `brands` list.\n",
        "\n",
        "Second, I would like to get the year the car was built, so I can determine the vehicle's age. To do this, I use a thing called **regular expressions** that provides a language for expressing patterns. Do I remember how to do this off the top of my head? No, I read a few pages in a book and looked on StackOverflow for answers. Roughly, in order to express the idea \"any year starting with 20xx,\" you can write `20[0-9][0-9]`, and for \"any year starting with 19xx,\" you can write `19[0-9][0-9]`. The `[0-9]`'s act as wildcards for any digit. This allows me to use the `re` package to find any instances of year-like numbers in the title text, using `re.search(r'20[0-9][0-9]|19[0-9][0-9]', title )`.\n",
        "\n",
        "This is all nested in a for-loop over the listings, and the data is appended to a list."
      ]
    },
    {
      "cell_type": "code",
      "execution_count": 100,
      "metadata": {
        "id": "jw-U4BA-y3XY"
      },
      "outputs": [],
      "source": [
        "furniture = ['couch', 'chair', 'lamp', 'bedframe', 'nightstand', 'desk', 'drawers', \n",
        "             'table', 'bookshelf', 'shelf', 'ottoman', 'stool', 'mirror', 'rack', \n",
        "             'sofa', 'rug', 'mattress', 'cabinets', 'hutch','chairs','dresser','bed']\n",
        "\n",
        "data = []  # We'll save our listings in this object\n",
        "\n",
        "for k in range(len(listings)):\n",
        "    title = listings[k].find('div', class_='title').get_text().lower()\n",
        "    price = listings[k].find('div', class_='price').get_text()\n",
        "    link = listings[k].find(href=True)['href']\n",
        "    \n",
        "    # Split the title into words\n",
        "    words = title.split()\n",
        "    \n",
        "    # Find matches in the furniture list\n",
        "    hits = [word for word in words if word in furniture]\n",
        "\n",
        "    if not hits:\n",
        "        furniture_match = 'missing'\n",
        "    else:\n",
        "        furniture_match = hits[0]\n",
        "\n",
        "    data.append({'title': title, 'price': price, 'link': link, 'furniture': furniture_match})\n",
        "\n",
        "    "
      ]
    },
    {
      "cell_type": "markdown",
      "metadata": {
        "id": "v8TjNu6uy3Xa"
      },
      "source": [
        "## 3. Wrangle your data, do some EDA, and make some plots. Try to find some interesting relationships or stories to tell about your data."
      ]
    },
    {
      "cell_type": "markdown",
      "metadata": {
        "id": "Mz4zVi80y3XZ"
      },
      "source": [
        "\n",
        "With the data scraped from Craigslist, we can put it in a dataframe and wrangle it. Of course, price and year come in as text, not numbers, and need to be typecast/coerced:"
      ]
    },
    {
      "cell_type": "code",
      "execution_count": 98,
      "metadata": {
        "id": "KY1njgHcy3XZ",
        "outputId": "985126b7-e5e5-40c3-ba09-ed0b56625f69"
      },
      "outputs": [
        {
          "name": "stdout",
          "output_type": "stream",
          "text": [
            "(360, 4)\n"
          ]
        },
        {
          "data": {
            "text/html": [
              "<div>\n",
              "<style scoped>\n",
              "    .dataframe tbody tr th:only-of-type {\n",
              "        vertical-align: middle;\n",
              "    }\n",
              "\n",
              "    .dataframe tbody tr th {\n",
              "        vertical-align: top;\n",
              "    }\n",
              "\n",
              "    .dataframe thead th {\n",
              "        text-align: right;\n",
              "    }\n",
              "</style>\n",
              "<table border=\"1\" class=\"dataframe\">\n",
              "  <thead>\n",
              "    <tr style=\"text-align: right;\">\n",
              "      <th></th>\n",
              "      <th>title</th>\n",
              "      <th>price</th>\n",
              "      <th>link</th>\n",
              "      <th>furniture</th>\n",
              "    </tr>\n",
              "  </thead>\n",
              "  <tbody>\n",
              "    <tr>\n",
              "      <th>355</th>\n",
              "      <td>outdoor glass top patio table and 6 chairs</td>\n",
              "      <td>99</td>\n",
              "      <td>https://charlottesville.craigslist.org/fuo/d/p...</td>\n",
              "      <td>table</td>\n",
              "    </tr>\n",
              "    <tr>\n",
              "      <th>356</th>\n",
              "      <td>drexel heritage corinthian in white wash oak w...</td>\n",
              "      <td>249</td>\n",
              "      <td>https://charlottesville.craigslist.org/fuo/d/p...</td>\n",
              "      <td>hutch</td>\n",
              "    </tr>\n",
              "    <tr>\n",
              "      <th>357</th>\n",
              "      <td>gone with the wind style lamp</td>\n",
              "      <td>65</td>\n",
              "      <td>https://charlottesville.craigslist.org/fuo/d/p...</td>\n",
              "      <td>lamp</td>\n",
              "    </tr>\n",
              "    <tr>\n",
              "      <th>358</th>\n",
              "      <td>dark mahogany finish end table</td>\n",
              "      <td>39</td>\n",
              "      <td>https://charlottesville.craigslist.org/fuo/d/p...</td>\n",
              "      <td>table</td>\n",
              "    </tr>\n",
              "    <tr>\n",
              "      <th>359</th>\n",
              "      <td>poplar writing/office desk</td>\n",
              "      <td>700</td>\n",
              "      <td>https://charlottesville.craigslist.org/fuo/d/c...</td>\n",
              "      <td>desk</td>\n",
              "    </tr>\n",
              "  </tbody>\n",
              "</table>\n",
              "</div>"
            ],
            "text/plain": [
              "                                                 title  price  \\\n",
              "355         outdoor glass top patio table and 6 chairs     99   \n",
              "356  drexel heritage corinthian in white wash oak w...    249   \n",
              "357                      gone with the wind style lamp     65   \n",
              "358                     dark mahogany finish end table     39   \n",
              "359                         poplar writing/office desk    700   \n",
              "\n",
              "                                                  link furniture  \n",
              "355  https://charlottesville.craigslist.org/fuo/d/p...     table  \n",
              "356  https://charlottesville.craigslist.org/fuo/d/p...     hutch  \n",
              "357  https://charlottesville.craigslist.org/fuo/d/p...      lamp  \n",
              "358  https://charlottesville.craigslist.org/fuo/d/p...     table  \n",
              "359  https://charlottesville.craigslist.org/fuo/d/c...      desk  "
            ]
          },
          "execution_count": 98,
          "metadata": {},
          "output_type": "execute_result"
        }
      ],
      "source": [
        "## Wrangle the data\n",
        "df = pd.DataFrame.from_dict(data)\n",
        "df['price'] = df['price'].str.replace('$','')\n",
        "df['price'] = df['price'].str.replace(',','')\n",
        "df['price'] = pd.to_numeric(df['price'],errors='coerce')\n",
        "print(df.shape)\n",
        "df.tail()"
      ]
    },
    {
      "cell_type": "markdown",
      "metadata": {
        "id": "YBcg4XUoy3XZ"
      },
      "source": [
        "With the data in and wrangled, we can now do EDA:"
      ]
    },
    {
      "cell_type": "code",
      "execution_count": 90,
      "metadata": {
        "id": "qBMwX_rFy3XZ",
        "outputId": "9abfa7a7-f4fb-4563-c0f6-531f74310c3e"
      },
      "outputs": [
        {
          "name": "stdout",
          "output_type": "stream",
          "text": [
            "count     360.000000\n",
            "mean      233.161111\n",
            "std       591.962175\n",
            "min         0.000000\n",
            "25%        27.250000\n",
            "50%        75.000000\n",
            "75%       200.000000\n",
            "max      5500.000000\n",
            "Name: price, dtype: float64\n"
          ]
        },
        {
          "data": {
            "image/png": "[encoded data removed]",
            "text/plain": [
              "<Figure size 640x480 with 1 Axes>"
            ]
          },
          "metadata": {},
          "output_type": "display_data"
        }
      ],
      "source": [
        "# EDA for price\n",
        "print(df['price'].describe())\n",
        "df['price'].hist(grid=False)\n",
        "plt.show()\n"
      ]
    },
    {
      "cell_type": "code",
      "execution_count": 101,
      "metadata": {
        "id": "xsJPUF2wy3XZ",
        "outputId": "9a613e49-3b2b-4214-9ae3-9a5f0986ff6e"
      },
      "outputs": [
        {
          "data": {
            "text/html": [
              "<div>\n",
              "<style scoped>\n",
              "    .dataframe tbody tr th:only-of-type {\n",
              "        vertical-align: middle;\n",
              "    }\n",
              "\n",
              "    .dataframe tbody tr th {\n",
              "        vertical-align: top;\n",
              "    }\n",
              "\n",
              "    .dataframe thead tr th {\n",
              "        text-align: left;\n",
              "    }\n",
              "\n",
              "    .dataframe thead tr:last-of-type th {\n",
              "        text-align: right;\n",
              "    }\n",
              "</style>\n",
              "<table border=\"1\" class=\"dataframe\">\n",
              "  <thead>\n",
              "    <tr>\n",
              "      <th></th>\n",
              "      <th colspan=\"8\" halign=\"left\">price</th>\n",
              "    </tr>\n",
              "    <tr>\n",
              "      <th></th>\n",
              "      <th>count</th>\n",
              "      <th>mean</th>\n",
              "      <th>std</th>\n",
              "      <th>min</th>\n",
              "      <th>25%</th>\n",
              "      <th>50%</th>\n",
              "      <th>75%</th>\n",
              "      <th>max</th>\n",
              "    </tr>\n",
              "    <tr>\n",
              "      <th>furniture</th>\n",
              "      <th></th>\n",
              "      <th></th>\n",
              "      <th></th>\n",
              "      <th></th>\n",
              "      <th></th>\n",
              "      <th></th>\n",
              "      <th></th>\n",
              "      <th></th>\n",
              "    </tr>\n",
              "  </thead>\n",
              "  <tbody>\n",
              "    <tr>\n",
              "      <th>bedframe</th>\n",
              "      <td>1.0</td>\n",
              "      <td>30.000000</td>\n",
              "      <td>NaN</td>\n",
              "      <td>30.0</td>\n",
              "      <td>30.00</td>\n",
              "      <td>30.0</td>\n",
              "      <td>30.00</td>\n",
              "      <td>30.0</td>\n",
              "    </tr>\n",
              "    <tr>\n",
              "      <th>bookshelf</th>\n",
              "      <td>1.0</td>\n",
              "      <td>20.000000</td>\n",
              "      <td>NaN</td>\n",
              "      <td>20.0</td>\n",
              "      <td>20.00</td>\n",
              "      <td>20.0</td>\n",
              "      <td>20.00</td>\n",
              "      <td>20.0</td>\n",
              "    </tr>\n",
              "    <tr>\n",
              "      <th>cabinets</th>\n",
              "      <td>3.0</td>\n",
              "      <td>168.333333</td>\n",
              "      <td>136.045336</td>\n",
              "      <td>80.0</td>\n",
              "      <td>90.00</td>\n",
              "      <td>100.0</td>\n",
              "      <td>212.50</td>\n",
              "      <td>325.0</td>\n",
              "    </tr>\n",
              "    <tr>\n",
              "      <th>chair</th>\n",
              "      <td>28.0</td>\n",
              "      <td>91.142857</td>\n",
              "      <td>146.297949</td>\n",
              "      <td>10.0</td>\n",
              "      <td>20.00</td>\n",
              "      <td>37.5</td>\n",
              "      <td>81.25</td>\n",
              "      <td>650.0</td>\n",
              "    </tr>\n",
              "    <tr>\n",
              "      <th>chairs</th>\n",
              "      <td>15.0</td>\n",
              "      <td>102.133333</td>\n",
              "      <td>121.630510</td>\n",
              "      <td>15.0</td>\n",
              "      <td>30.00</td>\n",
              "      <td>60.0</td>\n",
              "      <td>112.50</td>\n",
              "      <td>450.0</td>\n",
              "    </tr>\n",
              "    <tr>\n",
              "      <th>couch</th>\n",
              "      <td>7.0</td>\n",
              "      <td>270.714286</td>\n",
              "      <td>222.493981</td>\n",
              "      <td>75.0</td>\n",
              "      <td>110.00</td>\n",
              "      <td>200.0</td>\n",
              "      <td>350.00</td>\n",
              "      <td>700.0</td>\n",
              "    </tr>\n",
              "    <tr>\n",
              "      <th>desk</th>\n",
              "      <td>20.0</td>\n",
              "      <td>162.750000</td>\n",
              "      <td>250.879479</td>\n",
              "      <td>10.0</td>\n",
              "      <td>20.00</td>\n",
              "      <td>27.5</td>\n",
              "      <td>206.25</td>\n",
              "      <td>750.0</td>\n",
              "    </tr>\n",
              "    <tr>\n",
              "      <th>drawers</th>\n",
              "      <td>2.0</td>\n",
              "      <td>85.000000</td>\n",
              "      <td>91.923882</td>\n",
              "      <td>20.0</td>\n",
              "      <td>52.50</td>\n",
              "      <td>85.0</td>\n",
              "      <td>117.50</td>\n",
              "      <td>150.0</td>\n",
              "    </tr>\n",
              "    <tr>\n",
              "      <th>dresser</th>\n",
              "      <td>8.0</td>\n",
              "      <td>214.125000</td>\n",
              "      <td>165.922906</td>\n",
              "      <td>25.0</td>\n",
              "      <td>122.50</td>\n",
              "      <td>164.5</td>\n",
              "      <td>305.50</td>\n",
              "      <td>497.0</td>\n",
              "    </tr>\n",
              "    <tr>\n",
              "      <th>hutch</th>\n",
              "      <td>5.0</td>\n",
              "      <td>157.200000</td>\n",
              "      <td>114.088562</td>\n",
              "      <td>49.0</td>\n",
              "      <td>50.00</td>\n",
              "      <td>139.0</td>\n",
              "      <td>249.00</td>\n",
              "      <td>299.0</td>\n",
              "    </tr>\n",
              "    <tr>\n",
              "      <th>lamp</th>\n",
              "      <td>9.0</td>\n",
              "      <td>33.666667</td>\n",
              "      <td>20.844664</td>\n",
              "      <td>8.0</td>\n",
              "      <td>20.00</td>\n",
              "      <td>28.0</td>\n",
              "      <td>50.00</td>\n",
              "      <td>65.0</td>\n",
              "    </tr>\n",
              "    <tr>\n",
              "      <th>mattress</th>\n",
              "      <td>12.0</td>\n",
              "      <td>170.833333</td>\n",
              "      <td>126.164275</td>\n",
              "      <td>0.0</td>\n",
              "      <td>100.00</td>\n",
              "      <td>110.0</td>\n",
              "      <td>275.00</td>\n",
              "      <td>350.0</td>\n",
              "    </tr>\n",
              "    <tr>\n",
              "      <th>mirror</th>\n",
              "      <td>7.0</td>\n",
              "      <td>42.857143</td>\n",
              "      <td>33.523268</td>\n",
              "      <td>15.0</td>\n",
              "      <td>17.50</td>\n",
              "      <td>25.0</td>\n",
              "      <td>62.50</td>\n",
              "      <td>100.0</td>\n",
              "    </tr>\n",
              "    <tr>\n",
              "      <th>missing</th>\n",
              "      <td>157.0</td>\n",
              "      <td>278.891720</td>\n",
              "      <td>646.097363</td>\n",
              "      <td>0.0</td>\n",
              "      <td>25.00</td>\n",
              "      <td>75.0</td>\n",
              "      <td>250.00</td>\n",
              "      <td>5500.0</td>\n",
              "    </tr>\n",
              "    <tr>\n",
              "      <th>nightstand</th>\n",
              "      <td>1.0</td>\n",
              "      <td>80.000000</td>\n",
              "      <td>NaN</td>\n",
              "      <td>80.0</td>\n",
              "      <td>80.00</td>\n",
              "      <td>80.0</td>\n",
              "      <td>80.00</td>\n",
              "      <td>80.0</td>\n",
              "    </tr>\n",
              "    <tr>\n",
              "      <th>ottoman</th>\n",
              "      <td>1.0</td>\n",
              "      <td>40.000000</td>\n",
              "      <td>NaN</td>\n",
              "      <td>40.0</td>\n",
              "      <td>40.00</td>\n",
              "      <td>40.0</td>\n",
              "      <td>40.00</td>\n",
              "      <td>40.0</td>\n",
              "    </tr>\n",
              "    <tr>\n",
              "      <th>rack</th>\n",
              "      <td>7.0</td>\n",
              "      <td>38.285714</td>\n",
              "      <td>27.305154</td>\n",
              "      <td>15.0</td>\n",
              "      <td>20.00</td>\n",
              "      <td>28.0</td>\n",
              "      <td>52.50</td>\n",
              "      <td>80.0</td>\n",
              "    </tr>\n",
              "    <tr>\n",
              "      <th>rug</th>\n",
              "      <td>9.0</td>\n",
              "      <td>408.222222</td>\n",
              "      <td>442.780639</td>\n",
              "      <td>39.0</td>\n",
              "      <td>125.00</td>\n",
              "      <td>350.0</td>\n",
              "      <td>400.00</td>\n",
              "      <td>1500.0</td>\n",
              "    </tr>\n",
              "    <tr>\n",
              "      <th>shelf</th>\n",
              "      <td>3.0</td>\n",
              "      <td>68.333333</td>\n",
              "      <td>28.431204</td>\n",
              "      <td>45.0</td>\n",
              "      <td>52.50</td>\n",
              "      <td>60.0</td>\n",
              "      <td>80.00</td>\n",
              "      <td>100.0</td>\n",
              "    </tr>\n",
              "    <tr>\n",
              "      <th>sofa</th>\n",
              "      <td>4.0</td>\n",
              "      <td>480.250000</td>\n",
              "      <td>696.560777</td>\n",
              "      <td>1.0</td>\n",
              "      <td>37.75</td>\n",
              "      <td>212.5</td>\n",
              "      <td>655.00</td>\n",
              "      <td>1495.0</td>\n",
              "    </tr>\n",
              "    <tr>\n",
              "      <th>stool</th>\n",
              "      <td>3.0</td>\n",
              "      <td>52.666667</td>\n",
              "      <td>37.287174</td>\n",
              "      <td>10.0</td>\n",
              "      <td>39.50</td>\n",
              "      <td>69.0</td>\n",
              "      <td>74.00</td>\n",
              "      <td>79.0</td>\n",
              "    </tr>\n",
              "    <tr>\n",
              "      <th>table</th>\n",
              "      <td>57.0</td>\n",
              "      <td>327.982456</td>\n",
              "      <td>956.761343</td>\n",
              "      <td>0.0</td>\n",
              "      <td>40.00</td>\n",
              "      <td>79.0</td>\n",
              "      <td>125.00</td>\n",
              "      <td>5000.0</td>\n",
              "    </tr>\n",
              "  </tbody>\n",
              "</table>\n",
              "</div>"
            ],
            "text/plain": [
              "            price                                                             \n",
              "            count        mean         std   min     25%    50%     75%     max\n",
              "furniture                                                                     \n",
              "bedframe      1.0   30.000000         NaN  30.0   30.00   30.0   30.00    30.0\n",
              "bookshelf     1.0   20.000000         NaN  20.0   20.00   20.0   20.00    20.0\n",
              "cabinets      3.0  168.333333  136.045336  80.0   90.00  100.0  212.50   325.0\n",
              "chair        28.0   91.142857  146.297949  10.0   20.00   37.5   81.25   650.0\n",
              "chairs       15.0  102.133333  121.630510  15.0   30.00   60.0  112.50   450.0\n",
              "couch         7.0  270.714286  222.493981  75.0  110.00  200.0  350.00   700.0\n",
              "desk         20.0  162.750000  250.879479  10.0   20.00   27.5  206.25   750.0\n",
              "drawers       2.0   85.000000   91.923882  20.0   52.50   85.0  117.50   150.0\n",
              "dresser       8.0  214.125000  165.922906  25.0  122.50  164.5  305.50   497.0\n",
              "hutch         5.0  157.200000  114.088562  49.0   50.00  139.0  249.00   299.0\n",
              "lamp          9.0   33.666667   20.844664   8.0   20.00   28.0   50.00    65.0\n",
              "mattress     12.0  170.833333  126.164275   0.0  100.00  110.0  275.00   350.0\n",
              "mirror        7.0   42.857143   33.523268  15.0   17.50   25.0   62.50   100.0\n",
              "missing     157.0  278.891720  646.097363   0.0   25.00   75.0  250.00  5500.0\n",
              "nightstand    1.0   80.000000         NaN  80.0   80.00   80.0   80.00    80.0\n",
              "ottoman       1.0   40.000000         NaN  40.0   40.00   40.0   40.00    40.0\n",
              "rack          7.0   38.285714   27.305154  15.0   20.00   28.0   52.50    80.0\n",
              "rug           9.0  408.222222  442.780639  39.0  125.00  350.0  400.00  1500.0\n",
              "shelf         3.0   68.333333   28.431204  45.0   52.50   60.0   80.00   100.0\n",
              "sofa          4.0  480.250000  696.560777   1.0   37.75  212.5  655.00  1495.0\n",
              "stool         3.0   52.666667   37.287174  10.0   39.50   69.0   74.00    79.0\n",
              "table        57.0  327.982456  956.761343   0.0   40.00   79.0  125.00  5000.0"
            ]
          },
          "execution_count": 101,
          "metadata": {},
          "output_type": "execute_result"
        }
      ],
      "source": [
        "# Price by brand:\n",
        "df.loc[:,['price','furniture']].groupby('furniture').describe()"
      ]
    },
    {
      "cell_type": "code",
      "execution_count": null,
      "metadata": {
        "id": "XP4Q0dIdy3Xa",
        "outputId": "883e5889-5d9f-472b-d686-12a257490c23"
      },
      "outputs": [
        {
          "data": {
            "text/html": [
              "<div>\n",
              "<style scoped>\n",
              "    .dataframe tbody tr th:only-of-type {\n",
              "        vertical-align: middle;\n",
              "    }\n",
              "\n",
              "    .dataframe tbody tr th {\n",
              "        vertical-align: top;\n",
              "    }\n",
              "\n",
              "    .dataframe thead tr th {\n",
              "        text-align: left;\n",
              "    }\n",
              "\n",
              "    .dataframe thead tr:last-of-type th {\n",
              "        text-align: right;\n",
              "    }\n",
              "</style>\n",
              "<table border=\"1\" class=\"dataframe\">\n",
              "  <thead>\n",
              "    <tr>\n",
              "      <th></th>\n",
              "      <th colspan=\"8\" halign=\"left\">age</th>\n",
              "    </tr>\n",
              "    <tr>\n",
              "      <th></th>\n",
              "      <th>count</th>\n",
              "      <th>mean</th>\n",
              "      <th>std</th>\n",
              "      <th>min</th>\n",
              "      <th>25%</th>\n",
              "      <th>50%</th>\n",
              "      <th>75%</th>\n",
              "      <th>max</th>\n",
              "    </tr>\n",
              "    <tr>\n",
              "      <th>brand</th>\n",
              "      <th></th>\n",
              "      <th></th>\n",
              "      <th></th>\n",
              "      <th></th>\n",
              "      <th></th>\n",
              "      <th></th>\n",
              "      <th></th>\n",
              "      <th></th>\n",
              "    </tr>\n",
              "  </thead>\n",
              "  <tbody>\n",
              "    <tr>\n",
              "      <th>acura</th>\n",
              "      <td>1.0</td>\n",
              "      <td>17.00</td>\n",
              "      <td>NaN</td>\n",
              "      <td>17.0</td>\n",
              "      <td>17.00</td>\n",
              "      <td>17.0</td>\n",
              "      <td>17.00</td>\n",
              "      <td>17.0</td>\n",
              "    </tr>\n",
              "    <tr>\n",
              "      <th>audi</th>\n",
              "      <td>1.0</td>\n",
              "      <td>21.00</td>\n",
              "      <td>NaN</td>\n",
              "      <td>21.0</td>\n",
              "      <td>21.00</td>\n",
              "      <td>21.0</td>\n",
              "      <td>21.00</td>\n",
              "      <td>21.0</td>\n",
              "    </tr>\n",
              "    <tr>\n",
              "      <th>bmw</th>\n",
              "      <td>2.0</td>\n",
              "      <td>12.50</td>\n",
              "      <td>2.121320</td>\n",
              "      <td>11.0</td>\n",
              "      <td>11.75</td>\n",
              "      <td>12.5</td>\n",
              "      <td>13.25</td>\n",
              "      <td>14.0</td>\n",
              "    </tr>\n",
              "    <tr>\n",
              "      <th>buick</th>\n",
              "      <td>0.0</td>\n",
              "      <td>NaN</td>\n",
              "      <td>NaN</td>\n",
              "      <td>NaN</td>\n",
              "      <td>NaN</td>\n",
              "      <td>NaN</td>\n",
              "      <td>NaN</td>\n",
              "      <td>NaN</td>\n",
              "    </tr>\n",
              "    <tr>\n",
              "      <th>chevrolet</th>\n",
              "      <td>4.0</td>\n",
              "      <td>29.50</td>\n",
              "      <td>8.962886</td>\n",
              "      <td>17.0</td>\n",
              "      <td>26.00</td>\n",
              "      <td>32.5</td>\n",
              "      <td>36.00</td>\n",
              "      <td>36.0</td>\n",
              "    </tr>\n",
              "    <tr>\n",
              "      <th>chevy</th>\n",
              "      <td>2.0</td>\n",
              "      <td>27.00</td>\n",
              "      <td>5.656854</td>\n",
              "      <td>23.0</td>\n",
              "      <td>25.00</td>\n",
              "      <td>27.0</td>\n",
              "      <td>29.00</td>\n",
              "      <td>31.0</td>\n",
              "    </tr>\n",
              "    <tr>\n",
              "      <th>dodge</th>\n",
              "      <td>2.0</td>\n",
              "      <td>36.00</td>\n",
              "      <td>21.213203</td>\n",
              "      <td>21.0</td>\n",
              "      <td>28.50</td>\n",
              "      <td>36.0</td>\n",
              "      <td>43.50</td>\n",
              "      <td>51.0</td>\n",
              "    </tr>\n",
              "    <tr>\n",
              "      <th>ford</th>\n",
              "      <td>10.0</td>\n",
              "      <td>23.50</td>\n",
              "      <td>17.494444</td>\n",
              "      <td>8.0</td>\n",
              "      <td>14.00</td>\n",
              "      <td>18.0</td>\n",
              "      <td>23.00</td>\n",
              "      <td>67.0</td>\n",
              "    </tr>\n",
              "    <tr>\n",
              "      <th>gmc</th>\n",
              "      <td>4.0</td>\n",
              "      <td>19.50</td>\n",
              "      <td>7.325754</td>\n",
              "      <td>10.0</td>\n",
              "      <td>16.00</td>\n",
              "      <td>20.5</td>\n",
              "      <td>24.00</td>\n",
              "      <td>27.0</td>\n",
              "    </tr>\n",
              "    <tr>\n",
              "      <th>honda</th>\n",
              "      <td>11.0</td>\n",
              "      <td>17.00</td>\n",
              "      <td>6.811755</td>\n",
              "      <td>10.0</td>\n",
              "      <td>11.50</td>\n",
              "      <td>17.0</td>\n",
              "      <td>20.00</td>\n",
              "      <td>33.0</td>\n",
              "    </tr>\n",
              "    <tr>\n",
              "      <th>jeep</th>\n",
              "      <td>5.0</td>\n",
              "      <td>29.00</td>\n",
              "      <td>20.211383</td>\n",
              "      <td>9.0</td>\n",
              "      <td>22.00</td>\n",
              "      <td>24.0</td>\n",
              "      <td>27.00</td>\n",
              "      <td>63.0</td>\n",
              "    </tr>\n",
              "    <tr>\n",
              "      <th>kia</th>\n",
              "      <td>2.0</td>\n",
              "      <td>12.50</td>\n",
              "      <td>4.949747</td>\n",
              "      <td>9.0</td>\n",
              "      <td>10.75</td>\n",
              "      <td>12.5</td>\n",
              "      <td>14.25</td>\n",
              "      <td>16.0</td>\n",
              "    </tr>\n",
              "    <tr>\n",
              "      <th>missing</th>\n",
              "      <td>20.0</td>\n",
              "      <td>22.15</td>\n",
              "      <td>16.556999</td>\n",
              "      <td>6.0</td>\n",
              "      <td>13.50</td>\n",
              "      <td>17.5</td>\n",
              "      <td>24.50</td>\n",
              "      <td>62.0</td>\n",
              "    </tr>\n",
              "    <tr>\n",
              "      <th>mitsubishi</th>\n",
              "      <td>1.0</td>\n",
              "      <td>19.00</td>\n",
              "      <td>NaN</td>\n",
              "      <td>19.0</td>\n",
              "      <td>19.00</td>\n",
              "      <td>19.0</td>\n",
              "      <td>19.00</td>\n",
              "      <td>19.0</td>\n",
              "    </tr>\n",
              "    <tr>\n",
              "      <th>subaru</th>\n",
              "      <td>4.0</td>\n",
              "      <td>15.00</td>\n",
              "      <td>5.354126</td>\n",
              "      <td>7.0</td>\n",
              "      <td>14.50</td>\n",
              "      <td>17.5</td>\n",
              "      <td>18.00</td>\n",
              "      <td>18.0</td>\n",
              "    </tr>\n",
              "    <tr>\n",
              "      <th>tesla</th>\n",
              "      <td>2.0</td>\n",
              "      <td>8.00</td>\n",
              "      <td>1.414214</td>\n",
              "      <td>7.0</td>\n",
              "      <td>7.50</td>\n",
              "      <td>8.0</td>\n",
              "      <td>8.50</td>\n",
              "      <td>9.0</td>\n",
              "    </tr>\n",
              "    <tr>\n",
              "      <th>toyota</th>\n",
              "      <td>6.0</td>\n",
              "      <td>12.50</td>\n",
              "      <td>7.395945</td>\n",
              "      <td>4.0</td>\n",
              "      <td>7.00</td>\n",
              "      <td>12.0</td>\n",
              "      <td>17.75</td>\n",
              "      <td>22.0</td>\n",
              "    </tr>\n",
              "    <tr>\n",
              "      <th>volkswagen</th>\n",
              "      <td>1.0</td>\n",
              "      <td>15.00</td>\n",
              "      <td>NaN</td>\n",
              "      <td>15.0</td>\n",
              "      <td>15.00</td>\n",
              "      <td>15.0</td>\n",
              "      <td>15.00</td>\n",
              "      <td>15.0</td>\n",
              "    </tr>\n",
              "    <tr>\n",
              "      <th>volvo</th>\n",
              "      <td>2.0</td>\n",
              "      <td>27.00</td>\n",
              "      <td>8.485281</td>\n",
              "      <td>21.0</td>\n",
              "      <td>24.00</td>\n",
              "      <td>27.0</td>\n",
              "      <td>30.00</td>\n",
              "      <td>33.0</td>\n",
              "    </tr>\n",
              "  </tbody>\n",
              "</table>\n",
              "</div>"
            ],
            "text/plain": [
              "             age                                                  \n",
              "           count   mean        std   min    25%   50%    75%   max\n",
              "brand                                                             \n",
              "acura        1.0  17.00        NaN  17.0  17.00  17.0  17.00  17.0\n",
              "audi         1.0  21.00        NaN  21.0  21.00  21.0  21.00  21.0\n",
              "bmw          2.0  12.50   2.121320  11.0  11.75  12.5  13.25  14.0\n",
              "buick        0.0    NaN        NaN   NaN    NaN   NaN    NaN   NaN\n",
              "chevrolet    4.0  29.50   8.962886  17.0  26.00  32.5  36.00  36.0\n",
              "chevy        2.0  27.00   5.656854  23.0  25.00  27.0  29.00  31.0\n",
              "dodge        2.0  36.00  21.213203  21.0  28.50  36.0  43.50  51.0\n",
              "ford        10.0  23.50  17.494444   8.0  14.00  18.0  23.00  67.0\n",
              "gmc          4.0  19.50   7.325754  10.0  16.00  20.5  24.00  27.0\n",
              "honda       11.0  17.00   6.811755  10.0  11.50  17.0  20.00  33.0\n",
              "jeep         5.0  29.00  20.211383   9.0  22.00  24.0  27.00  63.0\n",
              "kia          2.0  12.50   4.949747   9.0  10.75  12.5  14.25  16.0\n",
              "missing     20.0  22.15  16.556999   6.0  13.50  17.5  24.50  62.0\n",
              "mitsubishi   1.0  19.00        NaN  19.0  19.00  19.0  19.00  19.0\n",
              "subaru       4.0  15.00   5.354126   7.0  14.50  17.5  18.00  18.0\n",
              "tesla        2.0   8.00   1.414214   7.0   7.50   8.0   8.50   9.0\n",
              "toyota       6.0  12.50   7.395945   4.0   7.00  12.0  17.75  22.0\n",
              "volkswagen   1.0  15.00        NaN  15.0  15.00  15.0  15.00  15.0\n",
              "volvo        2.0  27.00   8.485281  21.0  24.00  27.0  30.00  33.0"
            ]
          },
          "execution_count": 19,
          "metadata": {},
          "output_type": "execute_result"
        }
      ],
      "source": []
    },
    {
      "cell_type": "code",
      "execution_count": 108,
      "metadata": {
        "id": "lHypfI-py3Xa",
        "outputId": "1f24c08e-e5d6-4f60-a944-e1760c3fd51d"
      },
      "outputs": [
        {
          "data": {
            "application/vnd.plotly.v1+json": {
              "config": {
                "plotlyServerURL": "https://plot.ly"
              },
              "data": [
                {
                  "alignmentgroup": "True",
                  "hovertemplate": "furniture=%{x}<br>price=%{y}<extra></extra>",
                  "legendgroup": "",
                  "marker": {
                    "color": "#636efa"
                  },
                  "name": "",
                  "notched": false,
                  "offsetgroup": "",
                  "orientation": "v",
                  "showlegend": false,
                  "type": "box",
                  "x": [
                    "missing",
                    "missing",
                    "table",
                    "missing",
                    "hutch",
                    "mattress",
                    "missing",
                    "lamp",
                    "desk",
                    "missing",
                    "missing",
                    "missing",
                    "missing",
                    "ottoman",
                    "cabinets",
                    "missing",
                    "missing",
                    "missing",
                    "chair",
                    "missing",
                    "table",
                    "missing",
                    "chair",
                    "missing",
                    "missing",
                    "desk",
                    "missing",
                    "missing",
                    "table",
                    "desk",
                    "drawers",
                    "missing",
                    "missing",
                    "missing",
                    "missing",
                    "missing",
                    "mirror",
                    "couch",
                    "missing",
                    "cabinets",
                    "missing",
                    "chairs",
                    "desk",
                    "rack",
                    "chairs",
                    "chair",
                    "desk",
                    "lamp",
                    "table",
                    "table",
                    "table",
                    "missing",
                    "missing",
                    "lamp",
                    "table",
                    "missing",
                    "missing",
                    "missing",
                    "missing",
                    "missing",
                    "missing",
                    "missing",
                    "table",
                    "missing",
                    "missing",
                    "chair",
                    "shelf",
                    "bookshelf",
                    "missing",
                    "table",
                    "desk",
                    "rack",
                    "missing",
                    "missing",
                    "table",
                    "couch",
                    "dresser",
                    "missing",
                    "missing",
                    "dresser",
                    "mattress",
                    "chair",
                    "missing",
                    "chair",
                    "missing",
                    "rack",
                    "missing",
                    "missing",
                    "missing",
                    "missing",
                    "chair",
                    "rack",
                    "missing",
                    "missing",
                    "mirror",
                    "mattress",
                    "mirror",
                    "table",
                    "drawers",
                    "table",
                    "table",
                    "sofa",
                    "missing",
                    "missing",
                    "table",
                    "missing",
                    "rug",
                    "rug",
                    "table",
                    "table",
                    "missing",
                    "missing",
                    "table",
                    "missing",
                    "chairs",
                    "missing",
                    "shelf",
                    "missing",
                    "chairs",
                    "missing",
                    "table",
                    "chair",
                    "chairs",
                    "lamp",
                    "missing",
                    "missing",
                    "chairs",
                    "missing",
                    "stool",
                    "chair",
                    "chair",
                    "nightstand",
                    "desk",
                    "chair",
                    "missing",
                    "couch",
                    "missing",
                    "rug",
                    "table",
                    "chair",
                    "missing",
                    "missing",
                    "missing",
                    "table",
                    "table",
                    "table",
                    "chair",
                    "table",
                    "dresser",
                    "table",
                    "table",
                    "desk",
                    "table",
                    "missing",
                    "rug",
                    "missing",
                    "table",
                    "table",
                    "table",
                    "desk",
                    "missing",
                    "hutch",
                    "chair",
                    "table",
                    "hutch",
                    "chairs",
                    "chair",
                    "table",
                    "chair",
                    "missing",
                    "desk",
                    "missing",
                    "missing",
                    "bedframe",
                    "missing",
                    "missing",
                    "dresser",
                    "missing",
                    "missing",
                    "missing",
                    "dresser",
                    "missing",
                    "missing",
                    "missing",
                    "missing",
                    "chair",
                    "missing",
                    "table",
                    "missing",
                    "missing",
                    "missing",
                    "mattress",
                    "chairs",
                    "missing",
                    "missing",
                    "mattress",
                    "missing",
                    "missing",
                    "missing",
                    "chair",
                    "missing",
                    "missing",
                    "chair",
                    "mirror",
                    "chair",
                    "missing",
                    "desk",
                    "missing",
                    "cabinets",
                    "dresser",
                    "missing",
                    "chair",
                    "missing",
                    "missing",
                    "missing",
                    "missing",
                    "table",
                    "rug",
                    "missing",
                    "chair",
                    "couch",
                    "couch",
                    "missing",
                    "chairs",
                    "chairs",
                    "missing",
                    "missing",
                    "table",
                    "table",
                    "rug",
                    "rug",
                    "desk",
                    "table",
                    "missing",
                    "missing",
                    "lamp",
                    "missing",
                    "table",
                    "table",
                    "table",
                    "missing",
                    "missing",
                    "table",
                    "missing",
                    "sofa",
                    "dresser",
                    "mattress",
                    "missing",
                    "couch",
                    "missing",
                    "table",
                    "missing",
                    "missing",
                    "missing",
                    "table",
                    "missing",
                    "chair",
                    "missing",
                    "missing",
                    "desk",
                    "desk",
                    "missing",
                    "missing",
                    "missing",
                    "missing",
                    "missing",
                    "desk",
                    "mattress",
                    "mattress",
                    "mattress",
                    "chair",
                    "table",
                    "missing",
                    "missing",
                    "chairs",
                    "missing",
                    "missing",
                    "stool",
                    "stool",
                    "desk",
                    "lamp",
                    "missing",
                    "rack",
                    "missing",
                    "chairs",
                    "missing",
                    "chair",
                    "missing",
                    "missing",
                    "missing",
                    "desk",
                    "mirror",
                    "rug",
                    "missing",
                    "table",
                    "rack",
                    "mattress",
                    "mattress",
                    "missing",
                    "chairs",
                    "desk",
                    "chair",
                    "sofa",
                    "missing",
                    "chair",
                    "missing",
                    "sofa",
                    "mirror",
                    "missing",
                    "missing",
                    "missing",
                    "table",
                    "couch",
                    "missing",
                    "table",
                    "table",
                    "missing",
                    "table",
                    "missing",
                    "missing",
                    "desk",
                    "missing",
                    "dresser",
                    "hutch",
                    "missing",
                    "missing",
                    "shelf",
                    "table",
                    "mirror",
                    "missing",
                    "missing",
                    "table",
                    "chair",
                    "mattress",
                    "missing",
                    "missing",
                    "rug",
                    "table",
                    "missing",
                    "table",
                    "missing",
                    "missing",
                    "lamp",
                    "rack",
                    "chairs",
                    "table",
                    "missing",
                    "missing",
                    "table",
                    "lamp",
                    "missing",
                    "table",
                    "missing",
                    "chairs",
                    "missing",
                    "table",
                    "hutch",
                    "lamp",
                    "table",
                    "desk"
                  ],
                  "x0": " ",
                  "xaxis": "x",
                  "y": [
                    10,
                    50,
                    115,
                    75,
                    49,
                    350,
                    75,
                    20,
                    22,
                    10,
                    30,
                    275,
                    30,
                    40,
                    325,
                    50,
                    400,
                    1400,
                    40,
                    200,
                    30,
                    75,
                    40,
                    250,
                    50,
                    30,
                    200,
                    20,
                    50,
                    10,
                    20,
                    20,
                    20,
                    20,
                    20,
                    10,
                    20,
                    75,
                    90,
                    80,
                    50,
                    20,
                    10,
                    15,
                    60,
                    10,
                    10,
                    50,
                    20,
                    75,
                    125,
                    20,
                    60,
                    50,
                    20,
                    20,
                    20,
                    1800,
                    3600,
                    1800,
                    20,
                    30,
                    30,
                    30,
                    20,
                    15,
                    60,
                    20,
                    100,
                    75,
                    20,
                    20,
                    2200,
                    150,
                    50,
                    120,
                    275,
                    250,
                    500,
                    150,
                    100,
                    35,
                    600,
                    650,
                    150,
                    30,
                    39,
                    39,
                    95,
                    65,
                    200,
                    75,
                    25,
                    150,
                    15,
                    0,
                    25,
                    20,
                    150,
                    100,
                    125,
                    50,
                    5500,
                    450,
                    600,
                    300,
                    550,
                    400,
                    40,
                    0,
                    0,
                    900,
                    5000,
                    25,
                    75,
                    80,
                    45,
                    30,
                    60,
                    20,
                    10,
                    30,
                    15,
                    10,
                    10,
                    40,
                    20,
                    20,
                    10,
                    10,
                    10,
                    80,
                    60,
                    20,
                    250,
                    200,
                    250,
                    125,
                    250,
                    75,
                    150,
                    10,
                    8,
                    89,
                    39,
                    175,
                    24,
                    349,
                    179,
                    125,
                    89,
                    269,
                    39,
                    50,
                    39,
                    88,
                    90,
                    155,
                    48,
                    20,
                    10,
                    299,
                    32,
                    35,
                    139,
                    72,
                    12,
                    40,
                    40,
                    50,
                    200,
                    350,
                    20,
                    30,
                    820,
                    497,
                    497,
                    22,
                    425,
                    475,
                    397,
                    145,
                    429,
                    397,
                    275,
                    45,
                    179,
                    165,
                    475,
                    220,
                    179,
                    200,
                    450,
                    200,
                    15,
                    30,
                    600,
                    120,
                    50,
                    20,
                    900,
                    200,
                    100,
                    15,
                    200,
                    125,
                    225,
                    300,
                    100,
                    40,
                    50,
                    20,
                    75,
                    15,
                    50,
                    75,
                    4800,
                    1500,
                    2250,
                    100,
                    300,
                    100,
                    120,
                    300,
                    150,
                    100,
                    20,
                    50,
                    90,
                    300,
                    350,
                    100,
                    2800,
                    30,
                    25,
                    8,
                    30,
                    75,
                    100,
                    275,
                    325,
                    75,
                    45,
                    45,
                    375,
                    25,
                    100,
                    0,
                    400,
                    400,
                    99,
                    300,
                    129,
                    79,
                    109,
                    38,
                    10,
                    895,
                    0,
                    750,
                    20,
                    175,
                    0,
                    0,
                    0,
                    0,
                    20,
                    100,
                    100,
                    350,
                    250,
                    500,
                    45,
                    50,
                    60,
                    89,
                    35,
                    79,
                    69,
                    49,
                    52,
                    50,
                    28,
                    25,
                    40,
                    200,
                    20,
                    150,
                    175,
                    700,
                    15,
                    100,
                    60,
                    25,
                    75,
                    80,
                    120,
                    250,
                    80,
                    150,
                    25,
                    44,
                    1495,
                    75,
                    50,
                    450,
                    1,
                    75,
                    30,
                    10,
                    0,
                    20,
                    700,
                    2250,
                    489,
                    10,
                    100,
                    195,
                    20,
                    1500,
                    700,
                    100,
                    150,
                    50,
                    20,
                    100,
                    100,
                    70,
                    50,
                    250,
                    0,
                    250,
                    450,
                    350,
                    200,
                    400,
                    350,
                    52,
                    79,
                    79,
                    89,
                    35,
                    20,
                    20,
                    35,
                    30,
                    75,
                    39,
                    52,
                    28,
                    62,
                    119,
                    45,
                    25,
                    60,
                    99,
                    249,
                    65,
                    39,
                    700
                  ],
                  "y0": " ",
                  "yaxis": "y"
                }
              ],
              "layout": {
                "boxmode": "group",
                "legend": {
                  "tracegroupgap": 0
                },
                "template": {
                  "data": {
                    "bar": [
                      {
                        "error_x": {
                          "color": "#2a3f5f"
                        },
                        "error_y": {
                          "color": "#2a3f5f"
                        },
                        "marker": {
                          "line": {
                            "color": "#E5ECF6",
                            "width": 0.5
                          },
                          "pattern": {
                            "fillmode": "overlay",
                            "size": 10,
                            "solidity": 0.2
                          }
                        },
                        "type": "bar"
                      }
                    ],
                    "barpolar": [
                      {
                        "marker": {
                          "line": {
                            "color": "#E5ECF6",
                            "width": 0.5
                          },
                          "pattern": {
                            "fillmode": "overlay",
                            "size": 10,
                            "solidity": 0.2
                          }
                        },
                        "type": "barpolar"
                      }
                    ],
                    "carpet": [
                      {
                        "aaxis": {
                          "endlinecolor": "#2a3f5f",
                          "gridcolor": "white",
                          "linecolor": "white",
                          "minorgridcolor": "white",
                          "startlinecolor": "#2a3f5f"
                        },
                        "baxis": {
                          "endlinecolor": "#2a3f5f",
                          "gridcolor": "white",
                          "linecolor": "white",
                          "minorgridcolor": "white",
                          "startlinecolor": "#2a3f5f"
                        },
                        "type": "carpet"
                      }
                    ],
                    "choropleth": [
                      {
                        "colorbar": {
                          "outlinewidth": 0,
                          "ticks": ""
                        },
                        "type": "choropleth"
                      }
                    ],
                    "contour": [
                      {
                        "colorbar": {
                          "outlinewidth": 0,
                          "ticks": ""
                        },
                        "colorscale": [
                          [
                            0,
                            "#0d0887"
                          ],
                          [
                            0.1111111111111111,
                            "#46039f"
                          ],
                          [
                            0.2222222222222222,
                            "#7201a8"
                          ],
                          [
                            0.3333333333333333,
                            "#9c179e"
                          ],
                          [
                            0.4444444444444444,
                            "#bd3786"
                          ],
                          [
                            0.5555555555555556,
                            "#d8576b"
                          ],
                          [
                            0.6666666666666666,
                            "#ed7953"
                          ],
                          [
                            0.7777777777777778,
                            "#fb9f3a"
                          ],
                          [
                            0.8888888888888888,
                            "#fdca26"
                          ],
                          [
                            1,
                            "#f0f921"
                          ]
                        ],
                        "type": "contour"
                      }
                    ],
                    "contourcarpet": [
                      {
                        "colorbar": {
                          "outlinewidth": 0,
                          "ticks": ""
                        },
                        "type": "contourcarpet"
                      }
                    ],
                    "heatmap": [
                      {
                        "colorbar": {
                          "outlinewidth": 0,
                          "ticks": ""
                        },
                        "colorscale": [
                          [
                            0,
                            "#0d0887"
                          ],
                          [
                            0.1111111111111111,
                            "#46039f"
                          ],
                          [
                            0.2222222222222222,
                            "#7201a8"
                          ],
                          [
                            0.3333333333333333,
                            "#9c179e"
                          ],
                          [
                            0.4444444444444444,
                            "#bd3786"
                          ],
                          [
                            0.5555555555555556,
                            "#d8576b"
                          ],
                          [
                            0.6666666666666666,
                            "#ed7953"
                          ],
                          [
                            0.7777777777777778,
                            "#fb9f3a"
                          ],
                          [
                            0.8888888888888888,
                            "#fdca26"
                          ],
                          [
                            1,
                            "#f0f921"
                          ]
                        ],
                        "type": "heatmap"
                      }
                    ],
                    "heatmapgl": [
                      {
                        "colorbar": {
                          "outlinewidth": 0,
                          "ticks": ""
                        },
                        "colorscale": [
                          [
                            0,
                            "#0d0887"
                          ],
                          [
                            0.1111111111111111,
                            "#46039f"
                          ],
                          [
                            0.2222222222222222,
                            "#7201a8"
                          ],
                          [
                            0.3333333333333333,
                            "#9c179e"
                          ],
                          [
                            0.4444444444444444,
                            "#bd3786"
                          ],
                          [
                            0.5555555555555556,
                            "#d8576b"
                          ],
                          [
                            0.6666666666666666,
                            "#ed7953"
                          ],
                          [
                            0.7777777777777778,
                            "#fb9f3a"
                          ],
                          [
                            0.8888888888888888,
                            "#fdca26"
                          ],
                          [
                            1,
                            "#f0f921"
                          ]
                        ],
                        "type": "heatmapgl"
                      }
                    ],
                    "histogram": [
                      {
                        "marker": {
                          "pattern": {
                            "fillmode": "overlay",
                            "size": 10,
                            "solidity": 0.2
                          }
                        },
                        "type": "histogram"
                      }
                    ],
                    "histogram2d": [
                      {
                        "colorbar": {
                          "outlinewidth": 0,
                          "ticks": ""
                        },
                        "colorscale": [
                          [
                            0,
                            "#0d0887"
                          ],
                          [
                            0.1111111111111111,
                            "#46039f"
                          ],
                          [
                            0.2222222222222222,
                            "#7201a8"
                          ],
                          [
                            0.3333333333333333,
                            "#9c179e"
                          ],
                          [
                            0.4444444444444444,
                            "#bd3786"
                          ],
                          [
                            0.5555555555555556,
                            "#d8576b"
                          ],
                          [
                            0.6666666666666666,
                            "#ed7953"
                          ],
                          [
                            0.7777777777777778,
                            "#fb9f3a"
                          ],
                          [
                            0.8888888888888888,
                            "#fdca26"
                          ],
                          [
                            1,
                            "#f0f921"
                          ]
                        ],
                        "type": "histogram2d"
                      }
                    ],
                    "histogram2dcontour": [
                      {
                        "colorbar": {
                          "outlinewidth": 0,
                          "ticks": ""
                        },
                        "colorscale": [
                          [
                            0,
                            "#0d0887"
                          ],
                          [
                            0.1111111111111111,
                            "#46039f"
                          ],
                          [
                            0.2222222222222222,
                            "#7201a8"
                          ],
                          [
                            0.3333333333333333,
                            "#9c179e"
                          ],
                          [
                            0.4444444444444444,
                            "#bd3786"
                          ],
                          [
                            0.5555555555555556,
                            "#d8576b"
                          ],
                          [
                            0.6666666666666666,
                            "#ed7953"
                          ],
                          [
                            0.7777777777777778,
                            "#fb9f3a"
                          ],
                          [
                            0.8888888888888888,
                            "#fdca26"
                          ],
                          [
                            1,
                            "#f0f921"
                          ]
                        ],
                        "type": "histogram2dcontour"
                      }
                    ],
                    "mesh3d": [
                      {
                        "colorbar": {
                          "outlinewidth": 0,
                          "ticks": ""
                        },
                        "type": "mesh3d"
                      }
                    ],
                    "parcoords": [
                      {
                        "line": {
                          "colorbar": {
                            "outlinewidth": 0,
                            "ticks": ""
                          }
                        },
                        "type": "parcoords"
                      }
                    ],
                    "pie": [
                      {
                        "automargin": true,
                        "type": "pie"
                      }
                    ],
                    "scatter": [
                      {
                        "fillpattern": {
                          "fillmode": "overlay",
                          "size": 10,
                          "solidity": 0.2
                        },
                        "type": "scatter"
                      }
                    ],
                    "scatter3d": [
                      {
                        "line": {
                          "colorbar": {
                            "outlinewidth": 0,
                            "ticks": ""
                          }
                        },
                        "marker": {
                          "colorbar": {
                            "outlinewidth": 0,
                            "ticks": ""
                          }
                        },
                        "type": "scatter3d"
                      }
                    ],
                    "scattercarpet": [
                      {
                        "marker": {
                          "colorbar": {
                            "outlinewidth": 0,
                            "ticks": ""
                          }
                        },
                        "type": "scattercarpet"
                      }
                    ],
                    "scattergeo": [
                      {
                        "marker": {
                          "colorbar": {
                            "outlinewidth": 0,
                            "ticks": ""
                          }
                        },
                        "type": "scattergeo"
                      }
                    ],
                    "scattergl": [
                      {
                        "marker": {
                          "colorbar": {
                            "outlinewidth": 0,
                            "ticks": ""
                          }
                        },
                        "type": "scattergl"
                      }
                    ],
                    "scattermapbox": [
                      {
                        "marker": {
                          "colorbar": {
                            "outlinewidth": 0,
                            "ticks": ""
                          }
                        },
                        "type": "scattermapbox"
                      }
                    ],
                    "scatterpolar": [
                      {
                        "marker": {
                          "colorbar": {
                            "outlinewidth": 0,
                            "ticks": ""
                          }
                        },
                        "type": "scatterpolar"
                      }
                    ],
                    "scatterpolargl": [
                      {
                        "marker": {
                          "colorbar": {
                            "outlinewidth": 0,
                            "ticks": ""
                          }
                        },
                        "type": "scatterpolargl"
                      }
                    ],
                    "scatterternary": [
                      {
                        "marker": {
                          "colorbar": {
                            "outlinewidth": 0,
                            "ticks": ""
                          }
                        },
                        "type": "scatterternary"
                      }
                    ],
                    "surface": [
                      {
                        "colorbar": {
                          "outlinewidth": 0,
                          "ticks": ""
                        },
                        "colorscale": [
                          [
                            0,
                            "#0d0887"
                          ],
                          [
                            0.1111111111111111,
                            "#46039f"
                          ],
                          [
                            0.2222222222222222,
                            "#7201a8"
                          ],
                          [
                            0.3333333333333333,
                            "#9c179e"
                          ],
                          [
                            0.4444444444444444,
                            "#bd3786"
                          ],
                          [
                            0.5555555555555556,
                            "#d8576b"
                          ],
                          [
                            0.6666666666666666,
                            "#ed7953"
                          ],
                          [
                            0.7777777777777778,
                            "#fb9f3a"
                          ],
                          [
                            0.8888888888888888,
                            "#fdca26"
                          ],
                          [
                            1,
                            "#f0f921"
                          ]
                        ],
                        "type": "surface"
                      }
                    ],
                    "table": [
                      {
                        "cells": {
                          "fill": {
                            "color": "#EBF0F8"
                          },
                          "line": {
                            "color": "white"
                          }
                        },
                        "header": {
                          "fill": {
                            "color": "#C8D4E3"
                          },
                          "line": {
                            "color": "white"
                          }
                        },
                        "type": "table"
                      }
                    ]
                  },
                  "layout": {
                    "annotationdefaults": {
                      "arrowcolor": "#2a3f5f",
                      "arrowhead": 0,
                      "arrowwidth": 1
                    },
                    "autotypenumbers": "strict",
                    "coloraxis": {
                      "colorbar": {
                        "outlinewidth": 0,
                        "ticks": ""
                      }
                    },
                    "colorscale": {
                      "diverging": [
                        [
                          0,
                          "#8e0152"
                        ],
                        [
                          0.1,
                          "#c51b7d"
                        ],
                        [
                          0.2,
                          "#de77ae"
                        ],
                        [
                          0.3,
                          "#f1b6da"
                        ],
                        [
                          0.4,
                          "#fde0ef"
                        ],
                        [
                          0.5,
                          "#f7f7f7"
                        ],
                        [
                          0.6,
                          "#e6f5d0"
                        ],
                        [
                          0.7,
                          "#b8e186"
                        ],
                        [
                          0.8,
                          "#7fbc41"
                        ],
                        [
                          0.9,
                          "#4d9221"
                        ],
                        [
                          1,
                          "#276419"
                        ]
                      ],
                      "sequential": [
                        [
                          0,
                          "#0d0887"
                        ],
                        [
                          0.1111111111111111,
                          "#46039f"
                        ],
                        [
                          0.2222222222222222,
                          "#7201a8"
                        ],
                        [
                          0.3333333333333333,
                          "#9c179e"
                        ],
                        [
                          0.4444444444444444,
                          "#bd3786"
                        ],
                        [
                          0.5555555555555556,
                          "#d8576b"
                        ],
                        [
                          0.6666666666666666,
                          "#ed7953"
                        ],
                        [
                          0.7777777777777778,
                          "#fb9f3a"
                        ],
                        [
                          0.8888888888888888,
                          "#fdca26"
                        ],
                        [
                          1,
                          "#f0f921"
                        ]
                      ],
                      "sequentialminus": [
                        [
                          0,
                          "#0d0887"
                        ],
                        [
                          0.1111111111111111,
                          "#46039f"
                        ],
                        [
                          0.2222222222222222,
                          "#7201a8"
                        ],
                        [
                          0.3333333333333333,
                          "#9c179e"
                        ],
                        [
                          0.4444444444444444,
                          "#bd3786"
                        ],
                        [
                          0.5555555555555556,
                          "#d8576b"
                        ],
                        [
                          0.6666666666666666,
                          "#ed7953"
                        ],
                        [
                          0.7777777777777778,
                          "#fb9f3a"
                        ],
                        [
                          0.8888888888888888,
                          "#fdca26"
                        ],
                        [
                          1,
                          "#f0f921"
                        ]
                      ]
                    },
                    "colorway": [
                      "#636efa",
                      "#EF553B",
                      "#00cc96",
                      "#ab63fa",
                      "#FFA15A",
                      "#19d3f3",
                      "#FF6692",
                      "#B6E880",
                      "#FF97FF",
                      "#FECB52"
                    ],
                    "font": {
                      "color": "#2a3f5f"
                    },
                    "geo": {
                      "bgcolor": "white",
                      "lakecolor": "white",
                      "landcolor": "#E5ECF6",
                      "showlakes": true,
                      "showland": true,
                      "subunitcolor": "white"
                    },
                    "hoverlabel": {
                      "align": "left"
                    },
                    "hovermode": "closest",
                    "mapbox": {
                      "style": "light"
                    },
                    "paper_bgcolor": "white",
                    "plot_bgcolor": "#E5ECF6",
                    "polar": {
                      "angularaxis": {
                        "gridcolor": "white",
                        "linecolor": "white",
                        "ticks": ""
                      },
                      "bgcolor": "#E5ECF6",
                      "radialaxis": {
                        "gridcolor": "white",
                        "linecolor": "white",
                        "ticks": ""
                      }
                    },
                    "scene": {
                      "xaxis": {
                        "backgroundcolor": "#E5ECF6",
                        "gridcolor": "white",
                        "gridwidth": 2,
                        "linecolor": "white",
                        "showbackground": true,
                        "ticks": "",
                        "zerolinecolor": "white"
                      },
                      "yaxis": {
                        "backgroundcolor": "#E5ECF6",
                        "gridcolor": "white",
                        "gridwidth": 2,
                        "linecolor": "white",
                        "showbackground": true,
                        "ticks": "",
                        "zerolinecolor": "white"
                      },
                      "zaxis": {
                        "backgroundcolor": "#E5ECF6",
                        "gridcolor": "white",
                        "gridwidth": 2,
                        "linecolor": "white",
                        "showbackground": true,
                        "ticks": "",
                        "zerolinecolor": "white"
                      }
                    },
                    "shapedefaults": {
                      "line": {
                        "color": "#2a3f5f"
                      }
                    },
                    "ternary": {
                      "aaxis": {
                        "gridcolor": "white",
                        "linecolor": "white",
                        "ticks": ""
                      },
                      "baxis": {
                        "gridcolor": "white",
                        "linecolor": "white",
                        "ticks": ""
                      },
                      "bgcolor": "#E5ECF6",
                      "caxis": {
                        "gridcolor": "white",
                        "linecolor": "white",
                        "ticks": ""
                      }
                    },
                    "title": {
                      "x": 0.05
                    },
                    "xaxis": {
                      "automargin": true,
                      "gridcolor": "white",
                      "linecolor": "white",
                      "ticks": "",
                      "title": {
                        "standoff": 15
                      },
                      "zerolinecolor": "white",
                      "zerolinewidth": 2
                    },
                    "yaxis": {
                      "automargin": true,
                      "gridcolor": "white",
                      "linecolor": "white",
                      "ticks": "",
                      "title": {
                        "standoff": 15
                      },
                      "zerolinecolor": "white",
                      "zerolinewidth": 2
                    }
                  }
                },
                "title": {
                  "text": "Average Price of Furniture"
                },
                "xaxis": {
                  "anchor": "y",
                  "domain": [
                    0,
                    1
                  ],
                  "title": {
                    "text": "furniture"
                  }
                },
                "yaxis": {
                  "anchor": "x",
                  "domain": [
                    0,
                    1
                  ],
                  "title": {
                    "text": "price"
                  }
                }
              }
            }
          },
          "metadata": {},
          "output_type": "display_data"
        }
      ],
      "source": [
        "fig = px.box(df, x='furniture', y='price', title='Average Price of Furniture')\n",
        "\n",
        "fig.show()"
      ]
    },
    {
      "cell_type": "code",
      "execution_count": 110,
      "metadata": {
        "id": "LzFhDn50y3Xa",
        "outputId": "bd26a020-f944-4b07-f98f-40a64db9d94d"
      },
      "outputs": [
        {
          "name": "stderr",
          "output_type": "stream",
          "text": [
            "/opt/homebrew/Caskroom/miniconda/base/envs/ds4003/lib/python3.8/site-packages/pandas/core/arraylike.py:396: RuntimeWarning:\n",
            "\n",
            "divide by zero encountered in log\n",
            "\n"
          ]
        },
        {
          "data": {
            "application/vnd.plotly.v1+json": {
              "config": {
                "plotlyServerURL": "https://plot.ly"
              },
              "data": [
                {
                  "alignmentgroup": "True",
                  "hovertemplate": "furniture=%{x}<br>log_price=%{y}<extra></extra>",
                  "legendgroup": "",
                  "marker": {
                    "color": "#636efa"
                  },
                  "name": "",
                  "notched": false,
                  "offsetgroup": "",
                  "orientation": "v",
                  "showlegend": false,
                  "type": "box",
                  "x": [
                    "missing",
                    "missing",
                    "table",
                    "missing",
                    "hutch",
                    "mattress",
                    "missing",
                    "lamp",
                    "desk",
                    "missing",
                    "missing",
                    "missing",
                    "missing",
                    "ottoman",
                    "cabinets",
                    "missing",
                    "missing",
                    "missing",
                    "chair",
                    "missing",
                    "table",
                    "missing",
                    "chair",
                    "missing",
                    "missing",
                    "desk",
                    "missing",
                    "missing",
                    "table",
                    "desk",
                    "drawers",
                    "missing",
                    "missing",
                    "missing",
                    "missing",
                    "missing",
                    "mirror",
                    "couch",
                    "missing",
                    "cabinets",
                    "missing",
                    "chairs",
                    "desk",
                    "rack",
                    "chairs",
                    "chair",
                    "desk",
                    "lamp",
                    "table",
                    "table",
                    "table",
                    "missing",
                    "missing",
                    "lamp",
                    "table",
                    "missing",
                    "missing",
                    "missing",
                    "missing",
                    "missing",
                    "missing",
                    "missing",
                    "table",
                    "missing",
                    "missing",
                    "chair",
                    "shelf",
                    "bookshelf",
                    "missing",
                    "table",
                    "desk",
                    "rack",
                    "missing",
                    "missing",
                    "table",
                    "couch",
                    "dresser",
                    "missing",
                    "missing",
                    "dresser",
                    "mattress",
                    "chair",
                    "missing",
                    "chair",
                    "missing",
                    "rack",
                    "missing",
                    "missing",
                    "missing",
                    "missing",
                    "chair",
                    "rack",
                    "missing",
                    "missing",
                    "mirror",
                    "mattress",
                    "mirror",
                    "table",
                    "drawers",
                    "table",
                    "table",
                    "sofa",
                    "missing",
                    "missing",
                    "table",
                    "missing",
                    "rug",
                    "rug",
                    "table",
                    "table",
                    "missing",
                    "missing",
                    "table",
                    "missing",
                    "chairs",
                    "missing",
                    "shelf",
                    "missing",
                    "chairs",
                    "missing",
                    "table",
                    "chair",
                    "chairs",
                    "lamp",
                    "missing",
                    "missing",
                    "chairs",
                    "missing",
                    "stool",
                    "chair",
                    "chair",
                    "nightstand",
                    "desk",
                    "chair",
                    "missing",
                    "couch",
                    "missing",
                    "rug",
                    "table",
                    "chair",
                    "missing",
                    "missing",
                    "missing",
                    "table",
                    "table",
                    "table",
                    "chair",
                    "table",
                    "dresser",
                    "table",
                    "table",
                    "desk",
                    "table",
                    "missing",
                    "rug",
                    "missing",
                    "table",
                    "table",
                    "table",
                    "desk",
                    "missing",
                    "hutch",
                    "chair",
                    "table",
                    "hutch",
                    "chairs",
                    "chair",
                    "table",
                    "chair",
                    "missing",
                    "desk",
                    "missing",
                    "missing",
                    "bedframe",
                    "missing",
                    "missing",
                    "dresser",
                    "missing",
                    "missing",
                    "missing",
                    "dresser",
                    "missing",
                    "missing",
                    "missing",
                    "missing",
                    "chair",
                    "missing",
                    "table",
                    "missing",
                    "missing",
                    "missing",
                    "mattress",
                    "chairs",
                    "missing",
                    "missing",
                    "mattress",
                    "missing",
                    "missing",
                    "missing",
                    "chair",
                    "missing",
                    "missing",
                    "chair",
                    "mirror",
                    "chair",
                    "missing",
                    "desk",
                    "missing",
                    "cabinets",
                    "dresser",
                    "missing",
                    "chair",
                    "missing",
                    "missing",
                    "missing",
                    "missing",
                    "table",
                    "rug",
                    "missing",
                    "chair",
                    "couch",
                    "couch",
                    "missing",
                    "chairs",
                    "chairs",
                    "missing",
                    "missing",
                    "table",
                    "table",
                    "rug",
                    "rug",
                    "desk",
                    "table",
                    "missing",
                    "missing",
                    "lamp",
                    "missing",
                    "table",
                    "table",
                    "table",
                    "missing",
                    "missing",
                    "table",
                    "missing",
                    "sofa",
                    "dresser",
                    "mattress",
                    "missing",
                    "couch",
                    "missing",
                    "table",
                    "missing",
                    "missing",
                    "missing",
                    "table",
                    "missing",
                    "chair",
                    "missing",
                    "missing",
                    "desk",
                    "desk",
                    "missing",
                    "missing",
                    "missing",
                    "missing",
                    "missing",
                    "desk",
                    "mattress",
                    "mattress",
                    "mattress",
                    "chair",
                    "table",
                    "missing",
                    "missing",
                    "chairs",
                    "missing",
                    "missing",
                    "stool",
                    "stool",
                    "desk",
                    "lamp",
                    "missing",
                    "rack",
                    "missing",
                    "chairs",
                    "missing",
                    "chair",
                    "missing",
                    "missing",
                    "missing",
                    "desk",
                    "mirror",
                    "rug",
                    "missing",
                    "table",
                    "rack",
                    "mattress",
                    "mattress",
                    "missing",
                    "chairs",
                    "desk",
                    "chair",
                    "sofa",
                    "missing",
                    "chair",
                    "missing",
                    "sofa",
                    "mirror",
                    "missing",
                    "missing",
                    "missing",
                    "table",
                    "couch",
                    "missing",
                    "table",
                    "table",
                    "missing",
                    "table",
                    "missing",
                    "missing",
                    "desk",
                    "missing",
                    "dresser",
                    "hutch",
                    "missing",
                    "missing",
                    "shelf",
                    "table",
                    "mirror",
                    "missing",
                    "missing",
                    "table",
                    "chair",
                    "mattress",
                    "missing",
                    "missing",
                    "rug",
                    "table",
                    "missing",
                    "table",
                    "missing",
                    "missing",
                    "lamp",
                    "rack",
                    "chairs",
                    "table",
                    "missing",
                    "missing",
                    "table",
                    "lamp",
                    "missing",
                    "table",
                    "missing",
                    "chairs",
                    "missing",
                    "table",
                    "hutch",
                    "lamp",
                    "table",
                    "desk"
                  ],
                  "x0": " ",
                  "xaxis": "x",
                  "y": [
                    2.302585092994046,
                    3.912023005428146,
                    4.74493212836325,
                    4.31748811353631,
                    3.8918202981106265,
                    5.857933154483459,
                    4.31748811353631,
                    2.995732273553991,
                    3.091042453358316,
                    2.302585092994046,
                    3.4011973816621555,
                    5.616771097666572,
                    3.4011973816621555,
                    3.6888794541139363,
                    5.783825182329737,
                    3.912023005428146,
                    5.991464547107982,
                    7.24422751560335,
                    3.6888794541139363,
                    5.298317366548036,
                    3.4011973816621555,
                    4.31748811353631,
                    3.6888794541139363,
                    5.521460917862246,
                    3.912023005428146,
                    3.4011973816621555,
                    5.298317366548036,
                    2.995732273553991,
                    3.912023005428146,
                    2.302585092994046,
                    2.995732273553991,
                    2.995732273553991,
                    2.995732273553991,
                    2.995732273553991,
                    2.995732273553991,
                    2.302585092994046,
                    2.995732273553991,
                    4.31748811353631,
                    4.499809670330265,
                    4.382026634673881,
                    3.912023005428146,
                    2.995732273553991,
                    2.302585092994046,
                    2.70805020110221,
                    4.0943445622221,
                    2.302585092994046,
                    2.302585092994046,
                    3.912023005428146,
                    2.995732273553991,
                    4.31748811353631,
                    4.8283137373023015,
                    2.995732273553991,
                    4.0943445622221,
                    3.912023005428146,
                    2.995732273553991,
                    2.995732273553991,
                    2.995732273553991,
                    7.495541943884256,
                    8.1886891244442,
                    7.495541943884256,
                    2.995732273553991,
                    3.4011973816621555,
                    3.4011973816621555,
                    3.4011973816621555,
                    2.995732273553991,
                    2.70805020110221,
                    4.0943445622221,
                    2.995732273553991,
                    4.605170185988092,
                    4.31748811353631,
                    2.995732273553991,
                    2.995732273553991,
                    7.696212639346407,
                    5.0106352940962555,
                    3.912023005428146,
                    4.787491742782046,
                    5.616771097666572,
                    5.521460917862246,
                    6.214608098422191,
                    5.0106352940962555,
                    4.605170185988092,
                    3.5553480614894135,
                    6.396929655216146,
                    6.476972362889683,
                    5.0106352940962555,
                    3.4011973816621555,
                    3.6635616461296463,
                    3.6635616461296463,
                    4.553876891600541,
                    4.174387269895637,
                    5.298317366548036,
                    4.31748811353631,
                    3.2188758248682006,
                    5.0106352940962555,
                    2.70805020110221,
                    null,
                    3.2188758248682006,
                    2.995732273553991,
                    5.0106352940962555,
                    4.605170185988092,
                    4.8283137373023015,
                    3.912023005428146,
                    8.612503371220562,
                    6.1092475827643655,
                    6.396929655216146,
                    5.703782474656201,
                    6.309918278226516,
                    5.991464547107982,
                    3.6888794541139363,
                    null,
                    null,
                    6.802394763324311,
                    8.517193191416238,
                    3.2188758248682006,
                    4.31748811353631,
                    4.382026634673881,
                    3.8066624897703196,
                    3.4011973816621555,
                    4.0943445622221,
                    2.995732273553991,
                    2.302585092994046,
                    3.4011973816621555,
                    2.70805020110221,
                    2.302585092994046,
                    2.302585092994046,
                    3.6888794541139363,
                    2.995732273553991,
                    2.995732273553991,
                    2.302585092994046,
                    2.302585092994046,
                    2.302585092994046,
                    4.382026634673881,
                    4.0943445622221,
                    2.995732273553991,
                    5.521460917862246,
                    5.298317366548036,
                    5.521460917862246,
                    4.8283137373023015,
                    5.521460917862246,
                    4.31748811353631,
                    5.0106352940962555,
                    2.302585092994046,
                    2.0794415416798357,
                    4.48863636973214,
                    3.6635616461296463,
                    5.1647859739235145,
                    3.1780538303479458,
                    5.855071922202427,
                    5.187385805840755,
                    4.8283137373023015,
                    4.48863636973214,
                    5.594711379601839,
                    3.6635616461296463,
                    3.912023005428146,
                    3.6635616461296463,
                    4.477336814478207,
                    4.499809670330265,
                    5.043425116919247,
                    3.871201010907891,
                    2.995732273553991,
                    2.302585092994046,
                    5.700443573390687,
                    3.4657359027997265,
                    3.5553480614894135,
                    4.9344739331306915,
                    4.276666119016055,
                    2.4849066497880004,
                    3.6888794541139363,
                    3.6888794541139363,
                    3.912023005428146,
                    5.298317366548036,
                    5.857933154483459,
                    2.995732273553991,
                    3.4011973816621555,
                    6.709304340258298,
                    6.208590026096629,
                    6.208590026096629,
                    3.091042453358316,
                    6.052089168924417,
                    6.163314804034641,
                    5.983936280687191,
                    4.976733742420574,
                    6.061456918928017,
                    5.983936280687191,
                    5.616771097666572,
                    3.8066624897703196,
                    5.187385805840755,
                    5.10594547390058,
                    6.163314804034641,
                    5.393627546352362,
                    5.187385805840755,
                    5.298317366548036,
                    6.1092475827643655,
                    5.298317366548036,
                    2.70805020110221,
                    3.4011973816621555,
                    6.396929655216146,
                    4.787491742782046,
                    3.912023005428146,
                    2.995732273553991,
                    6.802394763324311,
                    5.298317366548036,
                    4.605170185988092,
                    2.70805020110221,
                    5.298317366548036,
                    4.8283137373023015,
                    5.41610040220442,
                    5.703782474656201,
                    4.605170185988092,
                    3.6888794541139363,
                    3.912023005428146,
                    2.995732273553991,
                    4.31748811353631,
                    2.70805020110221,
                    3.912023005428146,
                    4.31748811353631,
                    8.476371196895983,
                    7.313220387090301,
                    7.718685495198466,
                    4.605170185988092,
                    5.703782474656201,
                    4.605170185988092,
                    4.787491742782046,
                    5.703782474656201,
                    5.0106352940962555,
                    4.605170185988092,
                    2.995732273553991,
                    3.912023005428146,
                    4.499809670330265,
                    5.703782474656201,
                    5.857933154483459,
                    4.605170185988092,
                    7.937374696163295,
                    3.4011973816621555,
                    3.2188758248682006,
                    2.0794415416798357,
                    3.4011973816621555,
                    4.31748811353631,
                    4.605170185988092,
                    5.616771097666572,
                    5.783825182329737,
                    4.31748811353631,
                    3.8066624897703196,
                    3.8066624897703196,
                    5.926926025970411,
                    3.2188758248682006,
                    4.605170185988092,
                    null,
                    5.991464547107982,
                    5.991464547107982,
                    4.59511985013459,
                    5.703782474656201,
                    4.859812404361672,
                    4.3694478524670215,
                    4.6913478822291435,
                    3.6375861597263857,
                    2.302585092994046,
                    6.796823718274855,
                    null,
                    6.620073206530356,
                    2.995732273553991,
                    5.1647859739235145,
                    null,
                    null,
                    null,
                    null,
                    2.995732273553991,
                    4.605170185988092,
                    4.605170185988092,
                    5.857933154483459,
                    5.521460917862246,
                    6.214608098422191,
                    3.8066624897703196,
                    3.912023005428146,
                    4.0943445622221,
                    4.48863636973214,
                    3.5553480614894135,
                    4.3694478524670215,
                    4.23410650459726,
                    3.8918202981106265,
                    3.9512437185814275,
                    3.912023005428146,
                    3.332204510175204,
                    3.2188758248682006,
                    3.6888794541139363,
                    5.298317366548036,
                    2.995732273553991,
                    5.0106352940962555,
                    5.1647859739235145,
                    6.551080335043404,
                    2.70805020110221,
                    4.605170185988092,
                    4.0943445622221,
                    3.2188758248682006,
                    4.31748811353631,
                    4.382026634673881,
                    4.787491742782046,
                    5.521460917862246,
                    4.382026634673881,
                    5.0106352940962555,
                    3.2188758248682006,
                    3.784189633918261,
                    7.3098814858247865,
                    4.31748811353631,
                    3.912023005428146,
                    6.1092475827643655,
                    0,
                    4.31748811353631,
                    3.4011973816621555,
                    2.302585092994046,
                    null,
                    2.995732273553991,
                    6.551080335043404,
                    7.718685495198466,
                    6.192362489474872,
                    2.302585092994046,
                    4.605170185988092,
                    5.272999558563747,
                    2.995732273553991,
                    7.313220387090301,
                    6.551080335043404,
                    4.605170185988092,
                    5.0106352940962555,
                    3.912023005428146,
                    2.995732273553991,
                    4.605170185988092,
                    4.605170185988092,
                    4.248495242049359,
                    3.912023005428146,
                    5.521460917862246,
                    null,
                    5.521460917862246,
                    6.1092475827643655,
                    5.857933154483459,
                    5.298317366548036,
                    5.991464547107982,
                    5.857933154483459,
                    3.9512437185814275,
                    4.3694478524670215,
                    4.3694478524670215,
                    4.48863636973214,
                    3.5553480614894135,
                    2.995732273553991,
                    2.995732273553991,
                    3.5553480614894135,
                    3.4011973816621555,
                    4.31748811353631,
                    3.6635616461296463,
                    3.9512437185814275,
                    3.332204510175204,
                    4.127134385045092,
                    4.77912349311153,
                    3.8066624897703196,
                    3.2188758248682006,
                    4.0943445622221,
                    4.59511985013459,
                    5.517452896464707,
                    4.174387269895637,
                    3.6635616461296463,
                    6.551080335043404
                  ],
                  "y0": " ",
                  "yaxis": "y"
                }
              ],
              "layout": {
                "boxmode": "group",
                "legend": {
                  "tracegroupgap": 0
                },
                "template": {
                  "data": {
                    "bar": [
                      {
                        "error_x": {
                          "color": "#2a3f5f"
                        },
                        "error_y": {
                          "color": "#2a3f5f"
                        },
                        "marker": {
                          "line": {
                            "color": "#E5ECF6",
                            "width": 0.5
                          },
                          "pattern": {
                            "fillmode": "overlay",
                            "size": 10,
                            "solidity": 0.2
                          }
                        },
                        "type": "bar"
                      }
                    ],
                    "barpolar": [
                      {
                        "marker": {
                          "line": {
                            "color": "#E5ECF6",
                            "width": 0.5
                          },
                          "pattern": {
                            "fillmode": "overlay",
                            "size": 10,
                            "solidity": 0.2
                          }
                        },
                        "type": "barpolar"
                      }
                    ],
                    "carpet": [
                      {
                        "aaxis": {
                          "endlinecolor": "#2a3f5f",
                          "gridcolor": "white",
                          "linecolor": "white",
                          "minorgridcolor": "white",
                          "startlinecolor": "#2a3f5f"
                        },
                        "baxis": {
                          "endlinecolor": "#2a3f5f",
                          "gridcolor": "white",
                          "linecolor": "white",
                          "minorgridcolor": "white",
                          "startlinecolor": "#2a3f5f"
                        },
                        "type": "carpet"
                      }
                    ],
                    "choropleth": [
                      {
                        "colorbar": {
                          "outlinewidth": 0,
                          "ticks": ""
                        },
                        "type": "choropleth"
                      }
                    ],
                    "contour": [
                      {
                        "colorbar": {
                          "outlinewidth": 0,
                          "ticks": ""
                        },
                        "colorscale": [
                          [
                            0,
                            "#0d0887"
                          ],
                          [
                            0.1111111111111111,
                            "#46039f"
                          ],
                          [
                            0.2222222222222222,
                            "#7201a8"
                          ],
                          [
                            0.3333333333333333,
                            "#9c179e"
                          ],
                          [
                            0.4444444444444444,
                            "#bd3786"
                          ],
                          [
                            0.5555555555555556,
                            "#d8576b"
                          ],
                          [
                            0.6666666666666666,
                            "#ed7953"
                          ],
                          [
                            0.7777777777777778,
                            "#fb9f3a"
                          ],
                          [
                            0.8888888888888888,
                            "#fdca26"
                          ],
                          [
                            1,
                            "#f0f921"
                          ]
                        ],
                        "type": "contour"
                      }
                    ],
                    "contourcarpet": [
                      {
                        "colorbar": {
                          "outlinewidth": 0,
                          "ticks": ""
                        },
                        "type": "contourcarpet"
                      }
                    ],
                    "heatmap": [
                      {
                        "colorbar": {
                          "outlinewidth": 0,
                          "ticks": ""
                        },
                        "colorscale": [
                          [
                            0,
                            "#0d0887"
                          ],
                          [
                            0.1111111111111111,
                            "#46039f"
                          ],
                          [
                            0.2222222222222222,
                            "#7201a8"
                          ],
                          [
                            0.3333333333333333,
                            "#9c179e"
                          ],
                          [
                            0.4444444444444444,
                            "#bd3786"
                          ],
                          [
                            0.5555555555555556,
                            "#d8576b"
                          ],
                          [
                            0.6666666666666666,
                            "#ed7953"
                          ],
                          [
                            0.7777777777777778,
                            "#fb9f3a"
                          ],
                          [
                            0.8888888888888888,
                            "#fdca26"
                          ],
                          [
                            1,
                            "#f0f921"
                          ]
                        ],
                        "type": "heatmap"
                      }
                    ],
                    "heatmapgl": [
                      {
                        "colorbar": {
                          "outlinewidth": 0,
                          "ticks": ""
                        },
                        "colorscale": [
                          [
                            0,
                            "#0d0887"
                          ],
                          [
                            0.1111111111111111,
                            "#46039f"
                          ],
                          [
                            0.2222222222222222,
                            "#7201a8"
                          ],
                          [
                            0.3333333333333333,
                            "#9c179e"
                          ],
                          [
                            0.4444444444444444,
                            "#bd3786"
                          ],
                          [
                            0.5555555555555556,
                            "#d8576b"
                          ],
                          [
                            0.6666666666666666,
                            "#ed7953"
                          ],
                          [
                            0.7777777777777778,
                            "#fb9f3a"
                          ],
                          [
                            0.8888888888888888,
                            "#fdca26"
                          ],
                          [
                            1,
                            "#f0f921"
                          ]
                        ],
                        "type": "heatmapgl"
                      }
                    ],
                    "histogram": [
                      {
                        "marker": {
                          "pattern": {
                            "fillmode": "overlay",
                            "size": 10,
                            "solidity": 0.2
                          }
                        },
                        "type": "histogram"
                      }
                    ],
                    "histogram2d": [
                      {
                        "colorbar": {
                          "outlinewidth": 0,
                          "ticks": ""
                        },
                        "colorscale": [
                          [
                            0,
                            "#0d0887"
                          ],
                          [
                            0.1111111111111111,
                            "#46039f"
                          ],
                          [
                            0.2222222222222222,
                            "#7201a8"
                          ],
                          [
                            0.3333333333333333,
                            "#9c179e"
                          ],
                          [
                            0.4444444444444444,
                            "#bd3786"
                          ],
                          [
                            0.5555555555555556,
                            "#d8576b"
                          ],
                          [
                            0.6666666666666666,
                            "#ed7953"
                          ],
                          [
                            0.7777777777777778,
                            "#fb9f3a"
                          ],
                          [
                            0.8888888888888888,
                            "#fdca26"
                          ],
                          [
                            1,
                            "#f0f921"
                          ]
                        ],
                        "type": "histogram2d"
                      }
                    ],
                    "histogram2dcontour": [
                      {
                        "colorbar": {
                          "outlinewidth": 0,
                          "ticks": ""
                        },
                        "colorscale": [
                          [
                            0,
                            "#0d0887"
                          ],
                          [
                            0.1111111111111111,
                            "#46039f"
                          ],
                          [
                            0.2222222222222222,
                            "#7201a8"
                          ],
                          [
                            0.3333333333333333,
                            "#9c179e"
                          ],
                          [
                            0.4444444444444444,
                            "#bd3786"
                          ],
                          [
                            0.5555555555555556,
                            "#d8576b"
                          ],
                          [
                            0.6666666666666666,
                            "#ed7953"
                          ],
                          [
                            0.7777777777777778,
                            "#fb9f3a"
                          ],
                          [
                            0.8888888888888888,
                            "#fdca26"
                          ],
                          [
                            1,
                            "#f0f921"
                          ]
                        ],
                        "type": "histogram2dcontour"
                      }
                    ],
                    "mesh3d": [
                      {
                        "colorbar": {
                          "outlinewidth": 0,
                          "ticks": ""
                        },
                        "type": "mesh3d"
                      }
                    ],
                    "parcoords": [
                      {
                        "line": {
                          "colorbar": {
                            "outlinewidth": 0,
                            "ticks": ""
                          }
                        },
                        "type": "parcoords"
                      }
                    ],
                    "pie": [
                      {
                        "automargin": true,
                        "type": "pie"
                      }
                    ],
                    "scatter": [
                      {
                        "fillpattern": {
                          "fillmode": "overlay",
                          "size": 10,
                          "solidity": 0.2
                        },
                        "type": "scatter"
                      }
                    ],
                    "scatter3d": [
                      {
                        "line": {
                          "colorbar": {
                            "outlinewidth": 0,
                            "ticks": ""
                          }
                        },
                        "marker": {
                          "colorbar": {
                            "outlinewidth": 0,
                            "ticks": ""
                          }
                        },
                        "type": "scatter3d"
                      }
                    ],
                    "scattercarpet": [
                      {
                        "marker": {
                          "colorbar": {
                            "outlinewidth": 0,
                            "ticks": ""
                          }
                        },
                        "type": "scattercarpet"
                      }
                    ],
                    "scattergeo": [
                      {
                        "marker": {
                          "colorbar": {
                            "outlinewidth": 0,
                            "ticks": ""
                          }
                        },
                        "type": "scattergeo"
                      }
                    ],
                    "scattergl": [
                      {
                        "marker": {
                          "colorbar": {
                            "outlinewidth": 0,
                            "ticks": ""
                          }
                        },
                        "type": "scattergl"
                      }
                    ],
                    "scattermapbox": [
                      {
                        "marker": {
                          "colorbar": {
                            "outlinewidth": 0,
                            "ticks": ""
                          }
                        },
                        "type": "scattermapbox"
                      }
                    ],
                    "scatterpolar": [
                      {
                        "marker": {
                          "colorbar": {
                            "outlinewidth": 0,
                            "ticks": ""
                          }
                        },
                        "type": "scatterpolar"
                      }
                    ],
                    "scatterpolargl": [
                      {
                        "marker": {
                          "colorbar": {
                            "outlinewidth": 0,
                            "ticks": ""
                          }
                        },
                        "type": "scatterpolargl"
                      }
                    ],
                    "scatterternary": [
                      {
                        "marker": {
                          "colorbar": {
                            "outlinewidth": 0,
                            "ticks": ""
                          }
                        },
                        "type": "scatterternary"
                      }
                    ],
                    "surface": [
                      {
                        "colorbar": {
                          "outlinewidth": 0,
                          "ticks": ""
                        },
                        "colorscale": [
                          [
                            0,
                            "#0d0887"
                          ],
                          [
                            0.1111111111111111,
                            "#46039f"
                          ],
                          [
                            0.2222222222222222,
                            "#7201a8"
                          ],
                          [
                            0.3333333333333333,
                            "#9c179e"
                          ],
                          [
                            0.4444444444444444,
                            "#bd3786"
                          ],
                          [
                            0.5555555555555556,
                            "#d8576b"
                          ],
                          [
                            0.6666666666666666,
                            "#ed7953"
                          ],
                          [
                            0.7777777777777778,
                            "#fb9f3a"
                          ],
                          [
                            0.8888888888888888,
                            "#fdca26"
                          ],
                          [
                            1,
                            "#f0f921"
                          ]
                        ],
                        "type": "surface"
                      }
                    ],
                    "table": [
                      {
                        "cells": {
                          "fill": {
                            "color": "#EBF0F8"
                          },
                          "line": {
                            "color": "white"
                          }
                        },
                        "header": {
                          "fill": {
                            "color": "#C8D4E3"
                          },
                          "line": {
                            "color": "white"
                          }
                        },
                        "type": "table"
                      }
                    ]
                  },
                  "layout": {
                    "annotationdefaults": {
                      "arrowcolor": "#2a3f5f",
                      "arrowhead": 0,
                      "arrowwidth": 1
                    },
                    "autotypenumbers": "strict",
                    "coloraxis": {
                      "colorbar": {
                        "outlinewidth": 0,
                        "ticks": ""
                      }
                    },
                    "colorscale": {
                      "diverging": [
                        [
                          0,
                          "#8e0152"
                        ],
                        [
                          0.1,
                          "#c51b7d"
                        ],
                        [
                          0.2,
                          "#de77ae"
                        ],
                        [
                          0.3,
                          "#f1b6da"
                        ],
                        [
                          0.4,
                          "#fde0ef"
                        ],
                        [
                          0.5,
                          "#f7f7f7"
                        ],
                        [
                          0.6,
                          "#e6f5d0"
                        ],
                        [
                          0.7,
                          "#b8e186"
                        ],
                        [
                          0.8,
                          "#7fbc41"
                        ],
                        [
                          0.9,
                          "#4d9221"
                        ],
                        [
                          1,
                          "#276419"
                        ]
                      ],
                      "sequential": [
                        [
                          0,
                          "#0d0887"
                        ],
                        [
                          0.1111111111111111,
                          "#46039f"
                        ],
                        [
                          0.2222222222222222,
                          "#7201a8"
                        ],
                        [
                          0.3333333333333333,
                          "#9c179e"
                        ],
                        [
                          0.4444444444444444,
                          "#bd3786"
                        ],
                        [
                          0.5555555555555556,
                          "#d8576b"
                        ],
                        [
                          0.6666666666666666,
                          "#ed7953"
                        ],
                        [
                          0.7777777777777778,
                          "#fb9f3a"
                        ],
                        [
                          0.8888888888888888,
                          "#fdca26"
                        ],
                        [
                          1,
                          "#f0f921"
                        ]
                      ],
                      "sequentialminus": [
                        [
                          0,
                          "#0d0887"
                        ],
                        [
                          0.1111111111111111,
                          "#46039f"
                        ],
                        [
                          0.2222222222222222,
                          "#7201a8"
                        ],
                        [
                          0.3333333333333333,
                          "#9c179e"
                        ],
                        [
                          0.4444444444444444,
                          "#bd3786"
                        ],
                        [
                          0.5555555555555556,
                          "#d8576b"
                        ],
                        [
                          0.6666666666666666,
                          "#ed7953"
                        ],
                        [
                          0.7777777777777778,
                          "#fb9f3a"
                        ],
                        [
                          0.8888888888888888,
                          "#fdca26"
                        ],
                        [
                          1,
                          "#f0f921"
                        ]
                      ]
                    },
                    "colorway": [
                      "#636efa",
                      "#EF553B",
                      "#00cc96",
                      "#ab63fa",
                      "#FFA15A",
                      "#19d3f3",
                      "#FF6692",
                      "#B6E880",
                      "#FF97FF",
                      "#FECB52"
                    ],
                    "font": {
                      "color": "#2a3f5f"
                    },
                    "geo": {
                      "bgcolor": "white",
                      "lakecolor": "white",
                      "landcolor": "#E5ECF6",
                      "showlakes": true,
                      "showland": true,
                      "subunitcolor": "white"
                    },
                    "hoverlabel": {
                      "align": "left"
                    },
                    "hovermode": "closest",
                    "mapbox": {
                      "style": "light"
                    },
                    "paper_bgcolor": "white",
                    "plot_bgcolor": "#E5ECF6",
                    "polar": {
                      "angularaxis": {
                        "gridcolor": "white",
                        "linecolor": "white",
                        "ticks": ""
                      },
                      "bgcolor": "#E5ECF6",
                      "radialaxis": {
                        "gridcolor": "white",
                        "linecolor": "white",
                        "ticks": ""
                      }
                    },
                    "scene": {
                      "xaxis": {
                        "backgroundcolor": "#E5ECF6",
                        "gridcolor": "white",
                        "gridwidth": 2,
                        "linecolor": "white",
                        "showbackground": true,
                        "ticks": "",
                        "zerolinecolor": "white"
                      },
                      "yaxis": {
                        "backgroundcolor": "#E5ECF6",
                        "gridcolor": "white",
                        "gridwidth": 2,
                        "linecolor": "white",
                        "showbackground": true,
                        "ticks": "",
                        "zerolinecolor": "white"
                      },
                      "zaxis": {
                        "backgroundcolor": "#E5ECF6",
                        "gridcolor": "white",
                        "gridwidth": 2,
                        "linecolor": "white",
                        "showbackground": true,
                        "ticks": "",
                        "zerolinecolor": "white"
                      }
                    },
                    "shapedefaults": {
                      "line": {
                        "color": "#2a3f5f"
                      }
                    },
                    "ternary": {
                      "aaxis": {
                        "gridcolor": "white",
                        "linecolor": "white",
                        "ticks": ""
                      },
                      "baxis": {
                        "gridcolor": "white",
                        "linecolor": "white",
                        "ticks": ""
                      },
                      "bgcolor": "#E5ECF6",
                      "caxis": {
                        "gridcolor": "white",
                        "linecolor": "white",
                        "ticks": ""
                      }
                    },
                    "title": {
                      "x": 0.05
                    },
                    "xaxis": {
                      "automargin": true,
                      "gridcolor": "white",
                      "linecolor": "white",
                      "ticks": "",
                      "title": {
                        "standoff": 15
                      },
                      "zerolinecolor": "white",
                      "zerolinewidth": 2
                    },
                    "yaxis": {
                      "automargin": true,
                      "gridcolor": "white",
                      "linecolor": "white",
                      "ticks": "",
                      "title": {
                        "standoff": 15
                      },
                      "zerolinecolor": "white",
                      "zerolinewidth": 2
                    }
                  }
                },
                "title": {
                  "text": "Average Price of Furniture"
                },
                "xaxis": {
                  "anchor": "y",
                  "domain": [
                    0,
                    1
                  ],
                  "title": {
                    "text": "furniture"
                  }
                },
                "yaxis": {
                  "anchor": "x",
                  "domain": [
                    0,
                    1
                  ],
                  "title": {
                    "text": "log_price"
                  }
                }
              }
            }
          },
          "metadata": {},
          "output_type": "display_data"
        }
      ],
      "source": [
        "df['log_price'] = np.log(df['price'])\n",
        "fig = px.box(df, x='furniture', y='log_price', title='Average Price of Furniture')\n",
        "fig.show()\n"
      ]
    },
    {
      "cell_type": "code",
      "execution_count": null,
      "metadata": {
        "id": "9yERjzXQy3Xa",
        "outputId": "014888b7-7043-4e62-fee4-25ef1dc3f55d"
      },
      "outputs": [
        {
          "data": {
            "text/plain": [
              "<seaborn.axisgrid.JointGrid at 0x7fad29e9a050>"
            ]
          },
          "execution_count": 22,
          "metadata": {},
          "output_type": "execute_result"
        },
        {
          "data": {
            "image/png": "[encoded data removed]",
            "text/plain": [
              "<Figure size 600x600 with 3 Axes>"
            ]
          },
          "metadata": {},
          "output_type": "display_data"
        }
      ],
      "source": [
        "sns.jointplot(data=df, x='log_age', y='log_price',kind='hex')"
      ]
    },
    {
      "cell_type": "markdown",
      "metadata": {
        "id": "bvLzSN6Gy3Xb"
      },
      "source": [
        "## 4. (Optional) From your search results, crawl to the links and extract more information about every listing in your original dataframe. Wrangle and do some EDA."
      ]
    },
    {
      "cell_type": "markdown",
      "metadata": {
        "id": "dd00T888y3Xa"
      },
      "source": [
        "The final thing we want to do is go from scraping a single page to crawling around.\n",
        "\n",
        "The idea here is that every web page is connected to some other page. By extracting links as we move from page to page, we can create a web crawler that wanders around for us, gathering information of interest.\n",
        "\n",
        "In this case, we want to use the search results to then visit each individual page for each listing. Since we saved the links to the web pages in the previous scrape, we can now simply for-loop over that column in the dataframe, visiting the page listing for each of the cars in the search results:"
      ]
    },
    {
      "cell_type": "code",
      "execution_count": null,
      "metadata": {
        "id": "gah68Z75y3Xa"
      },
      "outputs": [],
      "source": [
        "import time # Time delays\n",
        "import random # Random numbers\n",
        "\n",
        "links = df['link']\n",
        "data = []\n",
        "for link in links: # about 3 minutes\n",
        "    time.sleep(random.randint(1, 3)) # Random delays\n",
        "    raw = requests.get(link,headers=header) # Get page\n",
        "    bsObj = soup(raw.content,'html.parser') # Parse the html\n",
        "    #\n",
        "    try:\n",
        "        year_post = bsObj.find(class_='attr important').find(class_ = 'valu year').get_text()\n",
        "    except:\n",
        "        year_post = np.nan\n",
        "    #\n",
        "    try:\n",
        "        condition = bsObj.find(class_='attr condition').find(href=True).get_text()\n",
        "    except:\n",
        "        condition = 'missing'\n",
        "    #\n",
        "    try:\n",
        "        cylinders = bsObj.find(class_='attr auto_cylinders').find(class_ = 'valu').get_text()\n",
        "        cylinders = cylinders.replace('\\n','')\n",
        "    except:\n",
        "        cylinders = 'missing'\n",
        "    #\n",
        "    try:\n",
        "        drivetrain = bsObj.find(class_='attr auto_drivetrain').find(href=True).get_text()\n",
        "    except:\n",
        "        drivetrain = 'missing'\n",
        "    #\n",
        "    try:\n",
        "        fuel = bsObj.find(class_='attr auto_fuel_type').find(href = True).get_text()\n",
        "    except:\n",
        "        fuel = 'missing'\n",
        "    #\n",
        "    try:\n",
        "        miles = bsObj.find(class_='attr auto_miles').find(class_ = 'valu').get_text()\n",
        "    except:\n",
        "        miles = np.nan\n",
        "    #\n",
        "    try:\n",
        "        color = bsObj.find(class_='attr auto_paint').find(href=True).get_text()\n",
        "    except:\n",
        "        color='missing'\n",
        "    #\n",
        "    try:\n",
        "        title = bsObj.find(class_='attr auto_title_status').find(href=True).get_text()\n",
        "    except:\n",
        "        title='missing'\n",
        "    #\n",
        "    try:\n",
        "        transmission = bsObj.find(class_='attr auto_transmission').find(href=True).get_text()\n",
        "    except:\n",
        "        transmission = 'missing'\n",
        "    #\n",
        "    try:\n",
        "        bodytype = bsObj.find(class_='attr auto_bodytype').find(href=True).get_text()\n",
        "    except:\n",
        "        bodytype = 'missing'\n",
        "    #\n",
        "    text = bsObj.find(id='postingbody').get_text()\n",
        "    text = text.replace('\\n','')\n",
        "    text = text.replace('QR Code Link to This Post','')\n",
        "    record = {'title':title,\n",
        "              'year_post':year_post,\n",
        "              'condition':condition,\n",
        "              'cylinders':cylinders,\n",
        "              'drivetrain':drivetrain,\n",
        "              'fuel':fuel,\n",
        "              'miles':miles,\n",
        "              'color':color,\n",
        "              'title':'title',\n",
        "              'transmission':transmission,\n",
        "              'bodytype':bodytype,\n",
        "              'text':text,}\n",
        "    data.append(record)"
      ]
    },
    {
      "cell_type": "markdown",
      "metadata": {
        "id": "ro7H8V54y3Xb"
      },
      "source": [
        "What are the new features here?\n",
        "\n",
        "First, we don't want to overwhelm the servers, so we put a small delay between each request of a listing, `time.sleep(random.randint(1, 3))`. This waits a random amount of time between 1 and 3 seconds to avoid overwhelming their server.\n",
        "\n",
        "Second, we use the try/except block. This is a useful control structure in general, but especially for web scraping. Python tries the statements under `try:`, and if it fails, executes the steps under `except:`. This can happen, in this case, with missing data, which crashes the crawler. Instead, we put our missing codes into our dataframe right away.\n",
        "\n",
        "Third, we used `.find().find().get_text()` to find the data we're looking for. In general, the structure of mark-up langauges like HTML and XML makes it possible to \"drill down\" into their entries and extract the information of interest. This exploitation of mark-up languages could be the subject of a whole course on procuring data from the web."
      ]
    },
    {
      "cell_type": "markdown",
      "metadata": {
        "id": "UrI6hrL6y3Xb"
      },
      "source": [
        "With the data scraped, we can make a new dataframe, combine it with the old one using `pd.concat`, and do some wrangling to clean the data up:"
      ]
    },
    {
      "cell_type": "code",
      "execution_count": null,
      "metadata": {
        "id": "SDM-sfRay3Xb"
      },
      "outputs": [],
      "source": [
        "new_df = pd.DataFrame.from_dict(data)\n",
        "new_df.head()\n",
        "\n",
        "df = pd.concat([df,new_df],axis=1) # combine data frames\n",
        "df.head()\n",
        "\n",
        "df['miles'] = df['miles'].str.replace(',','')\n",
        "df['miles'] = pd.to_numeric(df['miles'],errors='coerce')\n",
        "\n",
        "df['year_post'] = df['year_post'].str.replace(',','')\n",
        "df['year_post'] = pd.to_numeric(df['year_post'],errors='coerce')\n",
        "df.to_csv('craiglist_cville_cars_long.csv')"
      ]
    }
  ],
  "metadata": {
    "colab": {
      "provenance": []
    },
    "kernelspec": {
      "display_name": "Python 3",
      "language": "python",
      "name": "python3"
    },
    "language_info": {
      "codemirror_mode": {
        "name": "ipython",
        "version": 3
      },
      "file_extension": ".py",
      "mimetype": "text/x-python",
      "name": "python",
      "nbconvert_exporter": "python",
      "pygments_lexer": "ipython3",
      "version": "3.8.18"
    }
  },
  "nbformat": 4,
  "nbformat_minor": 0
}
